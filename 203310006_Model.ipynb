{
  "nbformat": 4,
  "nbformat_minor": 0,
  "metadata": {
    "colab": {
      "name": "Algorithm Training_203310006.ipynb",
      "provenance": [],
      "collapsed_sections": []
    },
    "kernelspec": {
      "name": "python3",
      "display_name": "Python 3"
    },
    "language_info": {
      "name": "python"
    },
    "accelerator": "GPU"
  },
  "cells": [
    {
      "cell_type": "code",
      "metadata": {
        "id": "uNR72OejxthJ"
      },
      "source": [
        "import tensorflow as tf\n",
        "import pandas as pd\n",
        "import numpy as np\n",
        "import cv2\n",
        "import seaborn as sns\n",
        "import matplotlib.pyplot as plt\n",
        "import numpy as np\n",
        "import os\n",
        "import PIL\n",
        "from tensorflow.keras import layers\n",
        "import pickle\n",
        "from tensorflow.python.keras import *\n",
        "from tensorflow.keras.preprocessing.image import ImageDataGenerator\n",
        "from tensorflow.keras import layers, optimizers\n",
        "from tensorflow.keras.applications import DenseNet121\n",
        "from tensorflow.keras.applications.resnet50 import ResNet50\n",
        "from tensorflow.keras.layers import *\n",
        "from tensorflow.keras.models import Model, load_model\n",
        "from tensorflow.keras.initializers import glorot_uniform\n",
        "from tensorflow.keras.utils import plot_model\n",
        "from tensorflow.keras.callbacks import ReduceLROnPlateau, EarlyStopping, ModelCheckpoint, LearningRateScheduler\n",
        "from IPython.display import display\n",
        "from tensorflow.keras import backend as K"
      ],
      "execution_count": 1,
      "outputs": []
    },
    {
      "cell_type": "code",
      "metadata": {
        "colab": {
          "base_uri": "https://localhost:8080/"
        },
        "id": "Of_PsOfP5Plb",
        "outputId": "e9567284-2f33-43eb-9bc2-4a64e02fbda2"
      },
      "source": [
        "from google.colab import drive\n",
        "drive.mount('/content/drive')"
      ],
      "execution_count": 2,
      "outputs": [
        {
          "output_type": "stream",
          "name": "stdout",
          "text": [
            "Mounted at /content/drive\n"
          ]
        }
      ]
    },
    {
      "cell_type": "code",
      "metadata": {
        "colab": {
          "base_uri": "https://localhost:8080/",
          "height": 423
        },
        "id": "Mh2yuG27yTtk",
        "outputId": "32aeb29a-b800-466e-c3dd-295af272ebe9"
      },
      "source": [
        "df = pd.read_csv(\"/content/drive/MyDrive/AVA Retail/TrainData.csv\")\n",
        "df"
      ],
      "execution_count": 4,
      "outputs": [
        {
          "output_type": "execute_result",
          "data": {
            "text/html": [
              "<div>\n",
              "<style scoped>\n",
              "    .dataframe tbody tr th:only-of-type {\n",
              "        vertical-align: middle;\n",
              "    }\n",
              "\n",
              "    .dataframe tbody tr th {\n",
              "        vertical-align: top;\n",
              "    }\n",
              "\n",
              "    .dataframe thead th {\n",
              "        text-align: right;\n",
              "    }\n",
              "</style>\n",
              "<table border=\"1\" class=\"dataframe\">\n",
              "  <thead>\n",
              "    <tr style=\"text-align: right;\">\n",
              "      <th></th>\n",
              "      <th>Unnamed: 0</th>\n",
              "      <th>images</th>\n",
              "      <th>labels</th>\n",
              "      <th>IMAGES</th>\n",
              "    </tr>\n",
              "  </thead>\n",
              "  <tbody>\n",
              "    <tr>\n",
              "      <th>0</th>\n",
              "      <td>0</td>\n",
              "      <td>IMG_1.jpg</td>\n",
              "      <td>annoyed</td>\n",
              "      <td>72 78 81 75 59 54 63 61 55 55 62 46 93 114 121...</td>\n",
              "    </tr>\n",
              "    <tr>\n",
              "      <th>1</th>\n",
              "      <td>1</td>\n",
              "      <td>IMG_4.jpg</td>\n",
              "      <td>annoyed</td>\n",
              "      <td>152 149 147 157 146 133 114 138 170 175 184 15...</td>\n",
              "    </tr>\n",
              "    <tr>\n",
              "      <th>2</th>\n",
              "      <td>2</td>\n",
              "      <td>IMG_7.jpg</td>\n",
              "      <td>scared</td>\n",
              "      <td>231 214 155 166 171 137 160 174 181 204 102 40...</td>\n",
              "    </tr>\n",
              "    <tr>\n",
              "      <th>3</th>\n",
              "      <td>3</td>\n",
              "      <td>IMG_10.jpg</td>\n",
              "      <td>upset</td>\n",
              "      <td>24 32 35 34 30 21 19 20 29 39 20 24 30 36 21 1...</td>\n",
              "    </tr>\n",
              "    <tr>\n",
              "      <th>4</th>\n",
              "      <td>4</td>\n",
              "      <td>IMG_13.jpg</td>\n",
              "      <td>content</td>\n",
              "      <td>4 0 0 1 0 0 0 0 1 0 0 0 5 13 22 28 49 49 59 84...</td>\n",
              "    </tr>\n",
              "    <tr>\n",
              "      <th>...</th>\n",
              "      <td>...</td>\n",
              "      <td>...</td>\n",
              "      <td>...</td>\n",
              "      <td>...</td>\n",
              "    </tr>\n",
              "    <tr>\n",
              "      <th>28816</th>\n",
              "      <td>28816</td>\n",
              "      <td>IMG_107641.jpg</td>\n",
              "      <td>scared</td>\n",
              "      <td>163 173 175 171 172 175 177 182 189 191 196 20...</td>\n",
              "    </tr>\n",
              "    <tr>\n",
              "      <th>28817</th>\n",
              "      <td>28817</td>\n",
              "      <td>IMG_107647.jpg</td>\n",
              "      <td>content</td>\n",
              "      <td>51 33 17 23 21 31 34 39 33 37 38 37 38 44 48 4...</td>\n",
              "    </tr>\n",
              "    <tr>\n",
              "      <th>28818</th>\n",
              "      <td>28818</td>\n",
              "      <td>IMG_107650.jpg</td>\n",
              "      <td>joyful</td>\n",
              "      <td>179 172 172 173 179 189 193 192 196 199 200 20...</td>\n",
              "    </tr>\n",
              "    <tr>\n",
              "      <th>28819</th>\n",
              "      <td>28819</td>\n",
              "      <td>IMG_107656.jpg</td>\n",
              "      <td>joyful</td>\n",
              "      <td>32 27 29 29 31 30 41 69 79 80 78 67 69 69 64 6...</td>\n",
              "    </tr>\n",
              "    <tr>\n",
              "      <th>28820</th>\n",
              "      <td>28820</td>\n",
              "      <td>IMG_107659.jpg</td>\n",
              "      <td>scared</td>\n",
              "      <td>18 16 13 12 14 16 23 32 49 59 69 82 98 108 121...</td>\n",
              "    </tr>\n",
              "  </tbody>\n",
              "</table>\n",
              "<p>28821 rows × 4 columns</p>\n",
              "</div>"
            ],
            "text/plain": [
              "       Unnamed: 0  ...                                             IMAGES\n",
              "0               0  ...  72 78 81 75 59 54 63 61 55 55 62 46 93 114 121...\n",
              "1               1  ...  152 149 147 157 146 133 114 138 170 175 184 15...\n",
              "2               2  ...  231 214 155 166 171 137 160 174 181 204 102 40...\n",
              "3               3  ...  24 32 35 34 30 21 19 20 29 39 20 24 30 36 21 1...\n",
              "4               4  ...  4 0 0 1 0 0 0 0 1 0 0 0 5 13 22 28 49 49 59 84...\n",
              "...           ...  ...                                                ...\n",
              "28816       28816  ...  163 173 175 171 172 175 177 182 189 191 196 20...\n",
              "28817       28817  ...  51 33 17 23 21 31 34 39 33 37 38 37 38 44 48 4...\n",
              "28818       28818  ...  179 172 172 173 179 189 193 192 196 199 200 20...\n",
              "28819       28819  ...  32 27 29 29 31 30 41 69 79 80 78 67 69 69 64 6...\n",
              "28820       28820  ...  18 16 13 12 14 16 23 32 49 59 69 82 98 108 121...\n",
              "\n",
              "[28821 rows x 4 columns]"
            ]
          },
          "metadata": {},
          "execution_count": 4
        }
      ]
    },
    {
      "cell_type": "code",
      "metadata": {
        "id": "fPKZAdxPu4s3"
      },
      "source": [
        "df = df.drop(['Unnamed: 0'], axis = 1)"
      ],
      "execution_count": 5,
      "outputs": []
    },
    {
      "cell_type": "code",
      "metadata": {
        "id": "sy4xmEPrmrXF"
      },
      "source": [
        "def string2array(x):\n",
        "  return np.array(x.split(' ')).reshape(48, 48, 1).astype('float32')"
      ],
      "execution_count": 3,
      "outputs": []
    },
    {
      "cell_type": "code",
      "metadata": {
        "id": "BzRSPCzcmzJl"
      },
      "source": [
        "df['IMAGES'] = df['IMAGES'].apply(lambda x: string2array(x))"
      ],
      "execution_count": 7,
      "outputs": []
    },
    {
      "cell_type": "code",
      "metadata": {
        "colab": {
          "base_uri": "https://localhost:8080/"
        },
        "id": "fn3NMhwCm9XW",
        "outputId": "2b0c07fd-042f-4359-c01f-848d657fcc29"
      },
      "source": [
        "df['IMAGES'][2].shape"
      ],
      "execution_count": 8,
      "outputs": [
        {
          "output_type": "execute_result",
          "data": {
            "text/plain": [
              "(48, 48, 1)"
            ]
          },
          "metadata": {},
          "execution_count": 8
        }
      ]
    },
    {
      "cell_type": "code",
      "metadata": {
        "colab": {
          "base_uri": "https://localhost:8080/"
        },
        "id": "GKhMAd4_nDko",
        "outputId": "11bc1355-36a9-454b-93dc-a1391589425c"
      },
      "source": [
        "df['IMAGES'][2]"
      ],
      "execution_count": 9,
      "outputs": [
        {
          "output_type": "execute_result",
          "data": {
            "text/plain": [
              "array([[[231.],\n",
              "        [214.],\n",
              "        [155.],\n",
              "        ...,\n",
              "        [ 44.],\n",
              "        [ 29.],\n",
              "        [ 16.]],\n",
              "\n",
              "       [[229.],\n",
              "        [172.],\n",
              "        [150.],\n",
              "        ...,\n",
              "        [ 26.],\n",
              "        [ 34.],\n",
              "        [ 25.]],\n",
              "\n",
              "       [[214.],\n",
              "        [156.],\n",
              "        [155.],\n",
              "        ...,\n",
              "        [ 27.],\n",
              "        [ 21.],\n",
              "        [ 31.]],\n",
              "\n",
              "       ...,\n",
              "\n",
              "       [[239.],\n",
              "        [246.],\n",
              "        [251.],\n",
              "        ...,\n",
              "        [ 58.],\n",
              "        [100.],\n",
              "        [148.]],\n",
              "\n",
              "       [[245.],\n",
              "        [250.],\n",
              "        [252.],\n",
              "        ...,\n",
              "        [ 79.],\n",
              "        [104.],\n",
              "        [161.]],\n",
              "\n",
              "       [[250.],\n",
              "        [251.],\n",
              "        [250.],\n",
              "        ...,\n",
              "        [ 85.],\n",
              "        [114.],\n",
              "        [153.]]], dtype=float32)"
            ]
          },
          "metadata": {},
          "execution_count": 9
        }
      ]
    },
    {
      "cell_type": "code",
      "metadata": {
        "id": "Tx0enQtynu5V"
      },
      "source": [
        "# df.labels.unique()\n",
        "label_to_text = {0:'annoyed', 1:'scared', 2:'upset', 3:'content', 4: 'joyful', 5: 'shocked', 6:'irritated'}"
      ],
      "execution_count": 10,
      "outputs": []
    },
    {
      "cell_type": "code",
      "metadata": {
        "colab": {
          "base_uri": "https://localhost:8080/",
          "height": 284
        },
        "id": "4vM0ehDjoi69",
        "outputId": "03c04add-d1e4-489d-e6fc-a441825a41a7"
      },
      "source": [
        "plt.imshow(df['IMAGES'][0].squeeze(),cmap='gray')"
      ],
      "execution_count": 11,
      "outputs": [
        {
          "output_type": "execute_result",
          "data": {
            "text/plain": [
              "<matplotlib.image.AxesImage at 0x7fd6ee83d750>"
            ]
          },
          "metadata": {},
          "execution_count": 11
        },
        {
          "output_type": "display_data",
          "data": {
            "image/png": "[encoded data removed]",
            "text/plain": [
              "<Figure size 432x288 with 1 Axes>"
            ]
          },
          "metadata": {
            "needs_background": "light"
          }
        }
      ]
    },
    {
      "cell_type": "code",
      "metadata": {
        "id": "codU2Vksopm9"
      },
      "source": [
        "emotions = [0,1,2,3,4,5,6]\n",
        "\n",
        "# for i in emotions:\n",
        "#   data = df[df['labels'] == i][:1]\n",
        "#   img = data['IMAGES'].item()\n",
        "#   img = img.reshape(48,48)\n",
        "#   plt.figure()\n",
        "#   plt.title(label_to_text[i])\n",
        "#   plt.imshow(img, cmap= 'gray')\n",
        "\n",
        "\n",
        "# for i in emotions:\n",
        "#   data = df[df['labels'] == i][:1]\n",
        "#   img = data['IMAGES'].item()\n",
        "#   img = img.reshape(48,48)\n",
        "#   plt.figure()\n",
        "#   plt.title(label_to_text[i])\n",
        "#   plt.imshow(img, cmap= 'gray')"
      ],
      "execution_count": 12,
      "outputs": []
    },
    {
      "cell_type": "code",
      "metadata": {
        "colab": {
          "base_uri": "https://localhost:8080/",
          "height": 624
        },
        "id": "W1gtATqPqHGL",
        "outputId": "23668536-e5e7-4b50-f89a-40cdc0955210"
      },
      "source": [
        "plt.figure(figsize=(10,10))\n",
        "sns.barplot(x=df.labels.value_counts().index,y=df.labels.value_counts())\n",
        "plt.title('Number of images per emotion')"
      ],
      "execution_count": 13,
      "outputs": [
        {
          "output_type": "execute_result",
          "data": {
            "text/plain": [
              "Text(0.5, 1.0, 'Number of images per emotion')"
            ]
          },
          "metadata": {},
          "execution_count": 13
        },
        {
          "output_type": "display_data",
          "data": {
            "image/png": "[encoded data removed]",
            "text/plain": [
              "<Figure size 720x720 with 1 Axes>"
            ]
          },
          "metadata": {
            "needs_background": "light"
          }
        }
      ]
    },
    {
      "cell_type": "code",
      "metadata": {
        "colab": {
          "base_uri": "https://localhost:8080/"
        },
        "id": "zD1_mXzfqv3B",
        "outputId": "34d92e43-8844-488a-c2fb-12f0602b0077"
      },
      "source": [
        "X = df['IMAGES']\n",
        "X.shape"
      ],
      "execution_count": 14,
      "outputs": [
        {
          "output_type": "execute_result",
          "data": {
            "text/plain": [
              "(28821,)"
            ]
          },
          "metadata": {},
          "execution_count": 14
        }
      ]
    },
    {
      "cell_type": "code",
      "metadata": {
        "colab": {
          "base_uri": "https://localhost:8080/"
        },
        "id": "FqafQ43sqhMe",
        "outputId": "22b14a48-ceb6-4460-de93-8616436f3f8c"
      },
      "source": [
        "# Splitting The Dataframe To Features And Labels\n",
        "X = df['IMAGES']\n",
        "y = pd.get_dummies(df['labels'])\n",
        "\n",
        "X = np.stack(X, axis = 0)\n",
        "X = X.reshape(28821, 48, 48, 1)\n",
        "\n",
        "print(X.shape, y.shape)"
      ],
      "execution_count": 15,
      "outputs": [
        {
          "output_type": "stream",
          "name": "stdout",
          "text": [
            "(28821, 48, 48, 1) (28821, 7)\n"
          ]
        }
      ]
    },
    {
      "cell_type": "code",
      "metadata": {
        "colab": {
          "base_uri": "https://localhost:8080/"
        },
        "id": "BdPPCeRHq4rM",
        "outputId": "19cabb5c-6bcc-42b4-d4e9-a1f9d70d70c4"
      },
      "source": [
        "X.shape"
      ],
      "execution_count": 16,
      "outputs": [
        {
          "output_type": "execute_result",
          "data": {
            "text/plain": [
              "(28821, 48, 48, 1)"
            ]
          },
          "metadata": {},
          "execution_count": 16
        }
      ]
    },
    {
      "cell_type": "code",
      "metadata": {
        "colab": {
          "base_uri": "https://localhost:8080/"
        },
        "id": "d2TxZ7rnq6go",
        "outputId": "c0d35f7f-2efe-429d-ed1b-6011b144331a"
      },
      "source": [
        "y.shape"
      ],
      "execution_count": 17,
      "outputs": [
        {
          "output_type": "execute_result",
          "data": {
            "text/plain": [
              "(28821, 7)"
            ]
          },
          "metadata": {},
          "execution_count": 17
        }
      ]
    },
    {
      "cell_type": "code",
      "metadata": {
        "id": "4_ZfbASoq-Ju"
      },
      "source": [
        "X = np.array(X)\n",
        "y = np.array(y)"
      ],
      "execution_count": 18,
      "outputs": []
    },
    {
      "cell_type": "code",
      "metadata": {
        "id": "DBuZl1gbrA-Q"
      },
      "source": [
        "# Spliting The Dataframe In To Train, And Validation Data Frames\n",
        "\n",
        "from sklearn.model_selection import train_test_split\n",
        "\n",
        "X_train, X_val, y_train, y_val = train_test_split(X,y,test_size = 0.2, shuffle = True)"
      ],
      "execution_count": 19,
      "outputs": []
    },
    {
      "cell_type": "code",
      "metadata": {
        "id": "L9paRa1jrpd3"
      },
      "source": [
        "# Image Pre-processing\n",
        "\n",
        "X_train = X_train/255\n",
        "X_val   = X_val /255"
      ],
      "execution_count": 20,
      "outputs": []
    },
    {
      "cell_type": "code",
      "metadata": {
        "id": "_iVIKtScrtkB"
      },
      "source": [
        "train_datagen = ImageDataGenerator(\n",
        "rotation_range=15,\n",
        "    width_shift_range=0.1,\n",
        "    height_shift_range=0.1,\n",
        "    shear_range=0.1,\n",
        "    zoom_range=0.1,\n",
        "    fill_mode = \"nearest\"\n",
        ")"
      ],
      "execution_count": 21,
      "outputs": []
    },
    {
      "cell_type": "code",
      "metadata": {
        "id": "Z-K1Uwb9rxYh"
      },
      "source": [
        "train_datagen = ImageDataGenerator(\n",
        "rotation_range=15,\n",
        "    width_shift_range=0.1,\n",
        "    height_shift_range=0.1,\n",
        "    shear_range=0.1,\n",
        "    zoom_range=0.1,\n",
        "    horizontal_flip=True,\n",
        "    fill_mode = \"nearest\", \n",
        "    vertical_flip=True,\n",
        ")"
      ],
      "execution_count": 22,
      "outputs": []
    },
    {
      "cell_type": "code",
      "metadata": {
        "id": "hQgOmcxCr24o"
      },
      "source": [
        "def res_block(X, filter, stage):\n",
        "\n",
        "  X_copy = X\n",
        "\n",
        "  f1 , f2, f3 = filter\n",
        "\n",
        "  X = Conv2D(f1, (1,1),strides = (1,1), name ='res_'+str(stage)+'_conv_a', kernel_initializer= glorot_uniform(seed = 0))(X)\n",
        "  X = MaxPool2D((2,2))(X)\n",
        "  X = BatchNormalization(axis =3, name = 'bn_'+str(stage)+'_conv_a')(X)\n",
        "  X = Activation('relu')(X) \n",
        "\n",
        "  X = Conv2D(f2, kernel_size = (3,3), strides =(1,1), padding = 'same', name ='res_'+str(stage)+'_conv_b', kernel_initializer= glorot_uniform(seed = 0))(X)\n",
        "  X = BatchNormalization(axis =3, name = 'bn_'+str(stage)+'_conv_b')(X)\n",
        "  X = Activation('relu')(X) \n",
        "\n",
        "  X = Conv2D(f3, kernel_size = (1,1), strides =(1,1),name ='res_'+str(stage)+'_conv_c', kernel_initializer= glorot_uniform(seed = 0))(X)\n",
        "  X = BatchNormalization(axis =3, name = 'bn_'+str(stage)+'_conv_c')(X)\n",
        "\n",
        "  X_copy = Conv2D(f3, kernel_size = (1,1), strides =(1,1),name ='res_'+str(stage)+'_conv_copy', kernel_initializer= glorot_uniform(seed = 0))(X_copy)\n",
        "  X_copy = MaxPool2D((2,2))(X_copy)\n",
        "  X_copy = BatchNormalization(axis =3, name = 'bn_'+str(stage)+'_conv_copy')(X_copy)\n",
        "\n",
        "  X = Add()([X,X_copy])\n",
        "  X = Activation('relu')(X)\n",
        "\n",
        "  X_copy = X\n",
        "\n",
        "\n",
        "  X = Conv2D(f1, (1,1),strides = (1,1), name ='res_'+str(stage)+'_identity_1_a', kernel_initializer= glorot_uniform(seed = 0))(X)\n",
        "  X = BatchNormalization(axis =3, name = 'bn_'+str(stage)+'_identity_1_a')(X)\n",
        "  X = Activation('relu')(X) \n",
        "\n",
        "  X = Conv2D(f2, kernel_size = (3,3), strides =(1,1), padding = 'same', name ='res_'+str(stage)+'_identity_1_b', kernel_initializer= glorot_uniform(seed = 0))(X)\n",
        "  X = BatchNormalization(axis =3, name = 'bn_'+str(stage)+'_identity_1_b')(X)\n",
        "  X = Activation('relu')(X) \n",
        "\n",
        "  X = Conv2D(f3, kernel_size = (1,1), strides =(1,1),name ='res_'+str(stage)+'_identity_1_c', kernel_initializer= glorot_uniform(seed = 0))(X)\n",
        "  X = BatchNormalization(axis =3, name = 'bn_'+str(stage)+'_identity_1_c')(X)\n",
        "\n",
        "  X = Add()([X,X_copy])\n",
        "  X = Activation('relu')(X)\n",
        "\n",
        "  X_copy = X\n",
        "\n",
        "  X = Conv2D(f1, (1,1),strides = (1,1), name ='res_'+str(stage)+'_identity_2_a', kernel_initializer= glorot_uniform(seed = 0))(X)\n",
        "  X = BatchNormalization(axis =3, name = 'bn_'+str(stage)+'_identity_2_a')(X)\n",
        "  X = Activation('relu')(X) \n",
        "\n",
        "  X = Conv2D(f2, kernel_size = (3,3), strides =(1,1), padding = 'same', name ='res_'+str(stage)+'_identity_2_b', kernel_initializer= glorot_uniform(seed = 0))(X)\n",
        "  X = BatchNormalization(axis =3, name = 'bn_'+str(stage)+'_identity_2_b')(X)\n",
        "  X = Activation('relu')(X) \n",
        "\n",
        "  X = Conv2D(f3, kernel_size = (1,1), strides =(1,1),name ='res_'+str(stage)+'_identity_2_c', kernel_initializer= glorot_uniform(seed = 0))(X)\n",
        "  X = BatchNormalization(axis =3, name = 'bn_'+str(stage)+'_identity_2_c')(X)\n",
        "\n",
        "  X = Add()([X,X_copy])\n",
        "  X = Activation('relu')(X)\n",
        "\n",
        "  return X"
      ],
      "execution_count": 23,
      "outputs": []
    },
    {
      "cell_type": "code",
      "metadata": {
        "colab": {
          "base_uri": "https://localhost:8080/"
        },
        "id": "xdoZcYIWr_kD",
        "outputId": "0ade6994-69e0-4ee2-b80b-01cc87484b05"
      },
      "source": [
        "input_shape = (48, 48, 1)\n",
        "\n",
        "# Input tensor shape\n",
        "X_input = Input(input_shape)\n",
        "\n",
        "X = ZeroPadding2D((3, 3))(X_input)\n",
        "\n",
        "X = Conv2D(64, (7, 7), strides= (2, 2), name = 'conv1', kernel_initializer= glorot_uniform(seed = 0))(X)\n",
        "X = BatchNormalization(axis =3, name = 'bn_conv1')(X)\n",
        "X = Activation('relu')(X)\n",
        "X = MaxPooling2D((3, 3), strides= (2, 2))(X)\n",
        "\n",
        "X = res_block(X, filter= [64, 64, 256], stage= 2)\n",
        "\n",
        "X = res_block(X, filter= [128, 128, 512], stage= 3)\n",
        "\n",
        "X = AveragePooling2D((2, 2), name = 'Averagea_Pooling')(X)\n",
        "\n",
        "X = Flatten()(X)\n",
        "X = Dense(7, activation = 'softmax', name = 'Dense_final', kernel_initializer= glorot_uniform(seed=0))(X)\n",
        "\n",
        "model_emotion = Model( inputs= X_input, outputs = X, name = 'Custom-Resnet')\n",
        "\n",
        "model_emotion.summary()"
      ],
      "execution_count": 32,
      "outputs": [
        {
          "output_type": "stream",
          "name": "stdout",
          "text": [
            "Model: \"Custom-Resnet\"\n",
            "__________________________________________________________________________________________________\n",
            " Layer (type)                   Output Shape         Param #     Connected to                     \n",
            "==================================================================================================\n",
            " input_3 (InputLayer)           [(None, 48, 48, 1)]  0           []                               \n",
            "                                                                                                  \n",
            " zero_padding2d_2 (ZeroPadding2  (None, 54, 54, 1)   0           ['input_3[0][0]']                \n",
            " D)                                                                                               \n",
            "                                                                                                  \n",
            " conv1 (Conv2D)                 (None, 24, 24, 64)   3200        ['zero_padding2d_2[0][0]']       \n",
            "                                                                                                  \n",
            " bn_conv1 (BatchNormalization)  (None, 24, 24, 64)   256         ['conv1[0][0]']                  \n",
            "                                                                                                  \n",
            " activation_38 (Activation)     (None, 24, 24, 64)   0           ['bn_conv1[0][0]']               \n",
            "                                                                                                  \n",
            " max_pooling2d_10 (MaxPooling2D  (None, 11, 11, 64)  0           ['activation_38[0][0]']          \n",
            " )                                                                                                \n",
            "                                                                                                  \n",
            " res_2_conv_a (Conv2D)          (None, 11, 11, 64)   4160        ['max_pooling2d_10[0][0]']       \n",
            "                                                                                                  \n",
            " max_pooling2d_11 (MaxPooling2D  (None, 5, 5, 64)    0           ['res_2_conv_a[0][0]']           \n",
            " )                                                                                                \n",
            "                                                                                                  \n",
            " bn_2_conv_a (BatchNormalizatio  (None, 5, 5, 64)    256         ['max_pooling2d_11[0][0]']       \n",
            " n)                                                                                               \n",
            "                                                                                                  \n",
            " activation_39 (Activation)     (None, 5, 5, 64)     0           ['bn_2_conv_a[0][0]']            \n",
            "                                                                                                  \n",
            " res_2_conv_b (Conv2D)          (None, 5, 5, 64)     36928       ['activation_39[0][0]']          \n",
            "                                                                                                  \n",
            " bn_2_conv_b (BatchNormalizatio  (None, 5, 5, 64)    256         ['res_2_conv_b[0][0]']           \n",
            " n)                                                                                               \n",
            "                                                                                                  \n",
            " activation_40 (Activation)     (None, 5, 5, 64)     0           ['bn_2_conv_b[0][0]']            \n",
            "                                                                                                  \n",
            " res_2_conv_copy (Conv2D)       (None, 11, 11, 256)  16640       ['max_pooling2d_10[0][0]']       \n",
            "                                                                                                  \n",
            " res_2_conv_c (Conv2D)          (None, 5, 5, 256)    16640       ['activation_40[0][0]']          \n",
            "                                                                                                  \n",
            " max_pooling2d_12 (MaxPooling2D  (None, 5, 5, 256)   0           ['res_2_conv_copy[0][0]']        \n",
            " )                                                                                                \n",
            "                                                                                                  \n",
            " bn_2_conv_c (BatchNormalizatio  (None, 5, 5, 256)   1024        ['res_2_conv_c[0][0]']           \n",
            " n)                                                                                               \n",
            "                                                                                                  \n",
            " bn_2_conv_copy (BatchNormaliza  (None, 5, 5, 256)   1024        ['max_pooling2d_12[0][0]']       \n",
            " tion)                                                                                            \n",
            "                                                                                                  \n",
            " add_12 (Add)                   (None, 5, 5, 256)    0           ['bn_2_conv_c[0][0]',            \n",
            "                                                                  'bn_2_conv_copy[0][0]']         \n",
            "                                                                                                  \n",
            " activation_41 (Activation)     (None, 5, 5, 256)    0           ['add_12[0][0]']                 \n",
            "                                                                                                  \n",
            " res_2_identity_1_a (Conv2D)    (None, 5, 5, 64)     16448       ['activation_41[0][0]']          \n",
            "                                                                                                  \n",
            " bn_2_identity_1_a (BatchNormal  (None, 5, 5, 64)    256         ['res_2_identity_1_a[0][0]']     \n",
            " ization)                                                                                         \n",
            "                                                                                                  \n",
            " activation_42 (Activation)     (None, 5, 5, 64)     0           ['bn_2_identity_1_a[0][0]']      \n",
            "                                                                                                  \n",
            " res_2_identity_1_b (Conv2D)    (None, 5, 5, 64)     36928       ['activation_42[0][0]']          \n",
            "                                                                                                  \n",
            " bn_2_identity_1_b (BatchNormal  (None, 5, 5, 64)    256         ['res_2_identity_1_b[0][0]']     \n",
            " ization)                                                                                         \n",
            "                                                                                                  \n",
            " activation_43 (Activation)     (None, 5, 5, 64)     0           ['bn_2_identity_1_b[0][0]']      \n",
            "                                                                                                  \n",
            " res_2_identity_1_c (Conv2D)    (None, 5, 5, 256)    16640       ['activation_43[0][0]']          \n",
            "                                                                                                  \n",
            " bn_2_identity_1_c (BatchNormal  (None, 5, 5, 256)   1024        ['res_2_identity_1_c[0][0]']     \n",
            " ization)                                                                                         \n",
            "                                                                                                  \n",
            " add_13 (Add)                   (None, 5, 5, 256)    0           ['bn_2_identity_1_c[0][0]',      \n",
            "                                                                  'activation_41[0][0]']          \n",
            "                                                                                                  \n",
            " activation_44 (Activation)     (None, 5, 5, 256)    0           ['add_13[0][0]']                 \n",
            "                                                                                                  \n",
            " res_2_identity_2_a (Conv2D)    (None, 5, 5, 64)     16448       ['activation_44[0][0]']          \n",
            "                                                                                                  \n",
            " bn_2_identity_2_a (BatchNormal  (None, 5, 5, 64)    256         ['res_2_identity_2_a[0][0]']     \n",
            " ization)                                                                                         \n",
            "                                                                                                  \n",
            " activation_45 (Activation)     (None, 5, 5, 64)     0           ['bn_2_identity_2_a[0][0]']      \n",
            "                                                                                                  \n",
            " res_2_identity_2_b (Conv2D)    (None, 5, 5, 64)     36928       ['activation_45[0][0]']          \n",
            "                                                                                                  \n",
            " bn_2_identity_2_b (BatchNormal  (None, 5, 5, 64)    256         ['res_2_identity_2_b[0][0]']     \n",
            " ization)                                                                                         \n",
            "                                                                                                  \n",
            " activation_46 (Activation)     (None, 5, 5, 64)     0           ['bn_2_identity_2_b[0][0]']      \n",
            "                                                                                                  \n",
            " res_2_identity_2_c (Conv2D)    (None, 5, 5, 256)    16640       ['activation_46[0][0]']          \n",
            "                                                                                                  \n",
            " bn_2_identity_2_c (BatchNormal  (None, 5, 5, 256)   1024        ['res_2_identity_2_c[0][0]']     \n",
            " ization)                                                                                         \n",
            "                                                                                                  \n",
            " add_14 (Add)                   (None, 5, 5, 256)    0           ['bn_2_identity_2_c[0][0]',      \n",
            "                                                                  'activation_44[0][0]']          \n",
            "                                                                                                  \n",
            " activation_47 (Activation)     (None, 5, 5, 256)    0           ['add_14[0][0]']                 \n",
            "                                                                                                  \n",
            " res_3_conv_a (Conv2D)          (None, 5, 5, 128)    32896       ['activation_47[0][0]']          \n",
            "                                                                                                  \n",
            " max_pooling2d_13 (MaxPooling2D  (None, 2, 2, 128)   0           ['res_3_conv_a[0][0]']           \n",
            " )                                                                                                \n",
            "                                                                                                  \n",
            " bn_3_conv_a (BatchNormalizatio  (None, 2, 2, 128)   512         ['max_pooling2d_13[0][0]']       \n",
            " n)                                                                                               \n",
            "                                                                                                  \n",
            " activation_48 (Activation)     (None, 2, 2, 128)    0           ['bn_3_conv_a[0][0]']            \n",
            "                                                                                                  \n",
            " res_3_conv_b (Conv2D)          (None, 2, 2, 128)    147584      ['activation_48[0][0]']          \n",
            "                                                                                                  \n",
            " bn_3_conv_b (BatchNormalizatio  (None, 2, 2, 128)   512         ['res_3_conv_b[0][0]']           \n",
            " n)                                                                                               \n",
            "                                                                                                  \n",
            " activation_49 (Activation)     (None, 2, 2, 128)    0           ['bn_3_conv_b[0][0]']            \n",
            "                                                                                                  \n",
            " res_3_conv_copy (Conv2D)       (None, 5, 5, 512)    131584      ['activation_47[0][0]']          \n",
            "                                                                                                  \n",
            " res_3_conv_c (Conv2D)          (None, 2, 2, 512)    66048       ['activation_49[0][0]']          \n",
            "                                                                                                  \n",
            " max_pooling2d_14 (MaxPooling2D  (None, 2, 2, 512)   0           ['res_3_conv_copy[0][0]']        \n",
            " )                                                                                                \n",
            "                                                                                                  \n",
            " bn_3_conv_c (BatchNormalizatio  (None, 2, 2, 512)   2048        ['res_3_conv_c[0][0]']           \n",
            " n)                                                                                               \n",
            "                                                                                                  \n",
            " bn_3_conv_copy (BatchNormaliza  (None, 2, 2, 512)   2048        ['max_pooling2d_14[0][0]']       \n",
            " tion)                                                                                            \n",
            "                                                                                                  \n",
            " add_15 (Add)                   (None, 2, 2, 512)    0           ['bn_3_conv_c[0][0]',            \n",
            "                                                                  'bn_3_conv_copy[0][0]']         \n",
            "                                                                                                  \n",
            " activation_50 (Activation)     (None, 2, 2, 512)    0           ['add_15[0][0]']                 \n",
            "                                                                                                  \n",
            " res_3_identity_1_a (Conv2D)    (None, 2, 2, 128)    65664       ['activation_50[0][0]']          \n",
            "                                                                                                  \n",
            " bn_3_identity_1_a (BatchNormal  (None, 2, 2, 128)   512         ['res_3_identity_1_a[0][0]']     \n",
            " ization)                                                                                         \n",
            "                                                                                                  \n",
            " activation_51 (Activation)     (None, 2, 2, 128)    0           ['bn_3_identity_1_a[0][0]']      \n",
            "                                                                                                  \n",
            " res_3_identity_1_b (Conv2D)    (None, 2, 2, 128)    147584      ['activation_51[0][0]']          \n",
            "                                                                                                  \n",
            " bn_3_identity_1_b (BatchNormal  (None, 2, 2, 128)   512         ['res_3_identity_1_b[0][0]']     \n",
            " ization)                                                                                         \n",
            "                                                                                                  \n",
            " activation_52 (Activation)     (None, 2, 2, 128)    0           ['bn_3_identity_1_b[0][0]']      \n",
            "                                                                                                  \n",
            " res_3_identity_1_c (Conv2D)    (None, 2, 2, 512)    66048       ['activation_52[0][0]']          \n",
            "                                                                                                  \n",
            " bn_3_identity_1_c (BatchNormal  (None, 2, 2, 512)   2048        ['res_3_identity_1_c[0][0]']     \n",
            " ization)                                                                                         \n",
            "                                                                                                  \n",
            " add_16 (Add)                   (None, 2, 2, 512)    0           ['bn_3_identity_1_c[0][0]',      \n",
            "                                                                  'activation_50[0][0]']          \n",
            "                                                                                                  \n",
            " activation_53 (Activation)     (None, 2, 2, 512)    0           ['add_16[0][0]']                 \n",
            "                                                                                                  \n",
            " res_3_identity_2_a (Conv2D)    (None, 2, 2, 128)    65664       ['activation_53[0][0]']          \n",
            "                                                                                                  \n",
            " bn_3_identity_2_a (BatchNormal  (None, 2, 2, 128)   512         ['res_3_identity_2_a[0][0]']     \n",
            " ization)                                                                                         \n",
            "                                                                                                  \n",
            " activation_54 (Activation)     (None, 2, 2, 128)    0           ['bn_3_identity_2_a[0][0]']      \n",
            "                                                                                                  \n",
            " res_3_identity_2_b (Conv2D)    (None, 2, 2, 128)    147584      ['activation_54[0][0]']          \n",
            "                                                                                                  \n",
            " bn_3_identity_2_b (BatchNormal  (None, 2, 2, 128)   512         ['res_3_identity_2_b[0][0]']     \n",
            " ization)                                                                                         \n",
            "                                                                                                  \n",
            " activation_55 (Activation)     (None, 2, 2, 128)    0           ['bn_3_identity_2_b[0][0]']      \n",
            "                                                                                                  \n",
            " res_3_identity_2_c (Conv2D)    (None, 2, 2, 512)    66048       ['activation_55[0][0]']          \n",
            "                                                                                                  \n",
            " bn_3_identity_2_c (BatchNormal  (None, 2, 2, 512)   2048        ['res_3_identity_2_c[0][0]']     \n",
            " ization)                                                                                         \n",
            "                                                                                                  \n",
            " add_17 (Add)                   (None, 2, 2, 512)    0           ['bn_3_identity_2_c[0][0]',      \n",
            "                                                                  'activation_53[0][0]']          \n",
            "                                                                                                  \n",
            " activation_56 (Activation)     (None, 2, 2, 512)    0           ['add_17[0][0]']                 \n",
            "                                                                                                  \n",
            " Averagea_Pooling (AveragePooli  (None, 1, 1, 512)   0           ['activation_56[0][0]']          \n",
            " ng2D)                                                                                            \n",
            "                                                                                                  \n",
            " flatten_2 (Flatten)            (None, 512)          0           ['Averagea_Pooling[0][0]']       \n",
            "                                                                                                  \n",
            " Dense_final (Dense)            (None, 7)            3591        ['flatten_2[0][0]']              \n",
            "                                                                                                  \n",
            "==================================================================================================\n",
            "Total params: 1,175,047\n",
            "Trainable params: 1,166,471\n",
            "Non-trainable params: 8,576\n",
            "__________________________________________________________________________________________________\n"
          ]
        }
      ]
    },
    {
      "cell_type": "code",
      "metadata": {
        "id": "1tNPZD6YsH_o"
      },
      "source": [
        "# Training The Network\n",
        "model_emotion.compile(optimizer = \"Adam\", loss = \"categorical_crossentropy\", metrics = [\"accuracy\"])"
      ],
      "execution_count": 33,
      "outputs": []
    },
    {
      "cell_type": "code",
      "metadata": {
        "id": "mgUP0NG7sRI5"
      },
      "source": [
        "# Using early stopping to exit training if validation loss is not decreasing even after certain epochs (patience)\n",
        "earlystopping = EarlyStopping(monitor = 'val_loss', mode = 'min', verbose = 1, patience = 20)\n",
        "\n",
        "# Saving the best model with lower validation loss\n",
        "checkpointer = ModelCheckpoint(filepath = \"Ashish_Facial_Exp.hdf5\", verbose = 1, save_best_only=True)"
      ],
      "execution_count": 34,
      "outputs": []
    },
    {
      "cell_type": "code",
      "metadata": {
        "colab": {
          "base_uri": "https://localhost:8080/"
        },
        "id": "x8P6tvgIseyw",
        "outputId": "c91ef6b3-502a-4116-91b8-9eb457f0586c"
      },
      "source": [
        "history = model_emotion.fit(train_datagen.flow(X_train, y_train, batch_size=64),\n",
        "\tvalidation_data=(X_val, y_val), steps_per_epoch=len(X_train) // 64,\n",
        "  epochs= 100, callbacks=[checkpointer, earlystopping])"
      ],
      "execution_count": 35,
      "outputs": [
        {
          "output_type": "stream",
          "name": "stdout",
          "text": [
            "Epoch 1/100\n",
            "360/360 [==============================] - ETA: 0s - loss: 1.8886 - accuracy: 0.2467\n",
            "Epoch 00001: val_loss improved from inf to 1.95526, saving model to Ashish_Facial_Exp.hdf5\n"
          ]
        },
        {
          "output_type": "stream",
          "name": "stderr",
          "text": [
            "/usr/local/lib/python3.7/dist-packages/keras/engine/functional.py:1410: CustomMaskWarning: Custom mask layers require a config and must override get_config. When loading, the custom mask layer must be passed to the custom_objects argument.\n",
            "  layer_config = serialize_layer_fn(layer)\n"
          ]
        },
        {
          "output_type": "stream",
          "name": "stdout",
          "text": [
            "360/360 [==============================] - 24s 58ms/step - loss: 1.8886 - accuracy: 0.2467 - val_loss: 1.9553 - val_accuracy: 0.1738\n",
            "Epoch 2/100\n",
            "360/360 [==============================] - ETA: 0s - loss: 1.7314 - accuracy: 0.3070\n",
            "Epoch 00002: val_loss improved from 1.95526 to 1.89017, saving model to Ashish_Facial_Exp.hdf5\n",
            "360/360 [==============================] - 20s 55ms/step - loss: 1.7314 - accuracy: 0.3070 - val_loss: 1.8902 - val_accuracy: 0.2933\n",
            "Epoch 3/100\n",
            "360/360 [==============================] - ETA: 0s - loss: 1.6504 - accuracy: 0.3498\n",
            "Epoch 00003: val_loss improved from 1.89017 to 1.87962, saving model to Ashish_Facial_Exp.hdf5\n",
            "360/360 [==============================] - 19s 54ms/step - loss: 1.6504 - accuracy: 0.3498 - val_loss: 1.8796 - val_accuracy: 0.2871\n",
            "Epoch 4/100\n",
            "359/360 [============================>.] - ETA: 0s - loss: 1.5855 - accuracy: 0.3785\n",
            "Epoch 00004: val_loss did not improve from 1.87962\n",
            "360/360 [==============================] - 19s 52ms/step - loss: 1.5856 - accuracy: 0.3784 - val_loss: 1.9068 - val_accuracy: 0.2219\n",
            "Epoch 5/100\n",
            "360/360 [==============================] - ETA: 0s - loss: 1.5296 - accuracy: 0.4071\n",
            "Epoch 00005: val_loss improved from 1.87962 to 1.79516, saving model to Ashish_Facial_Exp.hdf5\n",
            "360/360 [==============================] - 19s 52ms/step - loss: 1.5296 - accuracy: 0.4071 - val_loss: 1.7952 - val_accuracy: 0.2801\n",
            "Epoch 6/100\n",
            "360/360 [==============================] - ETA: 0s - loss: 1.4916 - accuracy: 0.4217\n",
            "Epoch 00006: val_loss improved from 1.79516 to 1.61645, saving model to Ashish_Facial_Exp.hdf5\n",
            "360/360 [==============================] - 19s 53ms/step - loss: 1.4916 - accuracy: 0.4217 - val_loss: 1.6165 - val_accuracy: 0.3627\n",
            "Epoch 7/100\n",
            "359/360 [============================>.] - ETA: 0s - loss: 1.4422 - accuracy: 0.4448\n",
            "Epoch 00007: val_loss did not improve from 1.61645\n",
            "360/360 [==============================] - 19s 53ms/step - loss: 1.4422 - accuracy: 0.4446 - val_loss: 2.1353 - val_accuracy: 0.2172\n",
            "Epoch 8/100\n",
            "360/360 [==============================] - ETA: 0s - loss: 1.4124 - accuracy: 0.4551\n",
            "Epoch 00008: val_loss did not improve from 1.61645\n",
            "360/360 [==============================] - 19s 53ms/step - loss: 1.4124 - accuracy: 0.4551 - val_loss: 2.0697 - val_accuracy: 0.3473\n",
            "Epoch 9/100\n",
            "360/360 [==============================] - ETA: 0s - loss: 1.3822 - accuracy: 0.4676\n",
            "Epoch 00009: val_loss improved from 1.61645 to 1.46003, saving model to Ashish_Facial_Exp.hdf5\n",
            "360/360 [==============================] - 20s 55ms/step - loss: 1.3822 - accuracy: 0.4676 - val_loss: 1.4600 - val_accuracy: 0.4298\n",
            "Epoch 10/100\n",
            "359/360 [============================>.] - ETA: 0s - loss: 1.3647 - accuracy: 0.4780\n",
            "Epoch 00010: val_loss improved from 1.46003 to 1.41542, saving model to Ashish_Facial_Exp.hdf5\n",
            "360/360 [==============================] - 18s 51ms/step - loss: 1.3657 - accuracy: 0.4776 - val_loss: 1.4154 - val_accuracy: 0.4597\n",
            "Epoch 11/100\n",
            "360/360 [==============================] - ETA: 0s - loss: 1.3490 - accuracy: 0.4815\n",
            "Epoch 00011: val_loss did not improve from 1.41542\n",
            "360/360 [==============================] - 19s 52ms/step - loss: 1.3490 - accuracy: 0.4815 - val_loss: 1.4552 - val_accuracy: 0.4432\n",
            "Epoch 12/100\n",
            "359/360 [============================>.] - ETA: 0s - loss: 1.3293 - accuracy: 0.4918\n",
            "Epoch 00012: val_loss did not improve from 1.41542\n",
            "360/360 [==============================] - 18s 51ms/step - loss: 1.3293 - accuracy: 0.4919 - val_loss: 1.5131 - val_accuracy: 0.4468\n",
            "Epoch 13/100\n",
            "359/360 [============================>.] - ETA: 0s - loss: 1.3069 - accuracy: 0.5004\n",
            "Epoch 00013: val_loss did not improve from 1.41542\n",
            "360/360 [==============================] - 20s 54ms/step - loss: 1.3071 - accuracy: 0.5005 - val_loss: 1.4804 - val_accuracy: 0.3971\n",
            "Epoch 14/100\n",
            "360/360 [==============================] - ETA: 0s - loss: 1.2955 - accuracy: 0.5047\n",
            "Epoch 00014: val_loss did not improve from 1.41542\n",
            "360/360 [==============================] - 19s 53ms/step - loss: 1.2955 - accuracy: 0.5047 - val_loss: 1.4248 - val_accuracy: 0.4520\n",
            "Epoch 15/100\n",
            "359/360 [============================>.] - ETA: 0s - loss: 1.2844 - accuracy: 0.5089\n",
            "Epoch 00015: val_loss did not improve from 1.41542\n",
            "360/360 [==============================] - 19s 52ms/step - loss: 1.2839 - accuracy: 0.5093 - val_loss: 1.4704 - val_accuracy: 0.4382\n",
            "Epoch 16/100\n",
            "360/360 [==============================] - ETA: 0s - loss: 1.2670 - accuracy: 0.5159\n",
            "Epoch 00016: val_loss improved from 1.41542 to 1.36580, saving model to Ashish_Facial_Exp.hdf5\n",
            "360/360 [==============================] - 18s 51ms/step - loss: 1.2670 - accuracy: 0.5159 - val_loss: 1.3658 - val_accuracy: 0.4713\n",
            "Epoch 17/100\n",
            "359/360 [============================>.] - ETA: 0s - loss: 1.2516 - accuracy: 0.5211\n",
            "Epoch 00017: val_loss improved from 1.36580 to 1.34148, saving model to Ashish_Facial_Exp.hdf5\n",
            "360/360 [==============================] - 20s 56ms/step - loss: 1.2518 - accuracy: 0.5212 - val_loss: 1.3415 - val_accuracy: 0.4850\n",
            "Epoch 18/100\n",
            "359/360 [============================>.] - ETA: 0s - loss: 1.2449 - accuracy: 0.5268\n",
            "Epoch 00018: val_loss improved from 1.34148 to 1.29000, saving model to Ashish_Facial_Exp.hdf5\n",
            "360/360 [==============================] - 19s 52ms/step - loss: 1.2448 - accuracy: 0.5267 - val_loss: 1.2900 - val_accuracy: 0.5041\n",
            "Epoch 19/100\n",
            "359/360 [============================>.] - ETA: 0s - loss: 1.2324 - accuracy: 0.5327\n",
            "Epoch 00019: val_loss did not improve from 1.29000\n",
            "360/360 [==============================] - 18s 51ms/step - loss: 1.2322 - accuracy: 0.5328 - val_loss: 1.3954 - val_accuracy: 0.4725\n",
            "Epoch 20/100\n",
            "360/360 [==============================] - ETA: 0s - loss: 1.2235 - accuracy: 0.5371\n",
            "Epoch 00020: val_loss did not improve from 1.29000\n",
            "360/360 [==============================] - 20s 54ms/step - loss: 1.2235 - accuracy: 0.5371 - val_loss: 1.3672 - val_accuracy: 0.4621\n",
            "Epoch 21/100\n",
            "360/360 [==============================] - ETA: 0s - loss: 1.2150 - accuracy: 0.5407\n",
            "Epoch 00021: val_loss did not improve from 1.29000\n",
            "360/360 [==============================] - 18s 51ms/step - loss: 1.2150 - accuracy: 0.5407 - val_loss: 1.3363 - val_accuracy: 0.4899\n",
            "Epoch 22/100\n",
            "359/360 [============================>.] - ETA: 0s - loss: 1.2045 - accuracy: 0.5439\n",
            "Epoch 00022: val_loss did not improve from 1.29000\n",
            "360/360 [==============================] - 20s 55ms/step - loss: 1.2048 - accuracy: 0.5441 - val_loss: 1.3764 - val_accuracy: 0.4671\n",
            "Epoch 23/100\n",
            "360/360 [==============================] - ETA: 0s - loss: 1.1927 - accuracy: 0.5436\n",
            "Epoch 00023: val_loss did not improve from 1.29000\n",
            "360/360 [==============================] - 19s 53ms/step - loss: 1.1927 - accuracy: 0.5436 - val_loss: 1.3135 - val_accuracy: 0.4862\n",
            "Epoch 24/100\n",
            "360/360 [==============================] - ETA: 0s - loss: 1.1896 - accuracy: 0.5488\n",
            "Epoch 00024: val_loss did not improve from 1.29000\n",
            "360/360 [==============================] - 19s 52ms/step - loss: 1.1896 - accuracy: 0.5488 - val_loss: 1.3636 - val_accuracy: 0.4890\n",
            "Epoch 25/100\n",
            "360/360 [==============================] - ETA: 0s - loss: 1.1818 - accuracy: 0.5485\n",
            "Epoch 00025: val_loss improved from 1.29000 to 1.23883, saving model to Ashish_Facial_Exp.hdf5\n",
            "360/360 [==============================] - 19s 51ms/step - loss: 1.1818 - accuracy: 0.5485 - val_loss: 1.2388 - val_accuracy: 0.5277\n",
            "Epoch 26/100\n",
            "360/360 [==============================] - ETA: 0s - loss: 1.1723 - accuracy: 0.5547\n",
            "Epoch 00026: val_loss improved from 1.23883 to 1.22255, saving model to Ashish_Facial_Exp.hdf5\n",
            "360/360 [==============================] - 20s 55ms/step - loss: 1.1723 - accuracy: 0.5547 - val_loss: 1.2225 - val_accuracy: 0.5299\n",
            "Epoch 27/100\n",
            "359/360 [============================>.] - ETA: 0s - loss: 1.1685 - accuracy: 0.5561\n",
            "Epoch 00027: val_loss did not improve from 1.22255\n",
            "360/360 [==============================] - 19s 54ms/step - loss: 1.1685 - accuracy: 0.5562 - val_loss: 1.2554 - val_accuracy: 0.5199\n",
            "Epoch 28/100\n",
            "360/360 [==============================] - ETA: 0s - loss: 1.1595 - accuracy: 0.5601\n",
            "Epoch 00028: val_loss did not improve from 1.22255\n",
            "360/360 [==============================] - 18s 50ms/step - loss: 1.1595 - accuracy: 0.5601 - val_loss: 1.4069 - val_accuracy: 0.4432\n",
            "Epoch 29/100\n",
            "360/360 [==============================] - ETA: 0s - loss: 1.1458 - accuracy: 0.5636\n",
            "Epoch 00029: val_loss did not improve from 1.22255\n",
            "360/360 [==============================] - 19s 54ms/step - loss: 1.1458 - accuracy: 0.5636 - val_loss: 1.3503 - val_accuracy: 0.4985\n",
            "Epoch 30/100\n",
            "360/360 [==============================] - ETA: 0s - loss: 1.1504 - accuracy: 0.5646\n",
            "Epoch 00030: val_loss did not improve from 1.22255\n",
            "360/360 [==============================] - 18s 50ms/step - loss: 1.1504 - accuracy: 0.5646 - val_loss: 1.2505 - val_accuracy: 0.5266\n",
            "Epoch 31/100\n",
            "360/360 [==============================] - ETA: 0s - loss: 1.1416 - accuracy: 0.5690\n",
            "Epoch 00031: val_loss did not improve from 1.22255\n",
            "360/360 [==============================] - 19s 51ms/step - loss: 1.1416 - accuracy: 0.5690 - val_loss: 1.2291 - val_accuracy: 0.5346\n",
            "Epoch 32/100\n",
            "360/360 [==============================] - ETA: 0s - loss: 1.1292 - accuracy: 0.5692\n",
            "Epoch 00032: val_loss did not improve from 1.22255\n",
            "360/360 [==============================] - 20s 56ms/step - loss: 1.1292 - accuracy: 0.5692 - val_loss: 1.2295 - val_accuracy: 0.5287\n",
            "Epoch 33/100\n",
            "359/360 [============================>.] - ETA: 0s - loss: 1.1253 - accuracy: 0.5716\n",
            "Epoch 00033: val_loss did not improve from 1.22255\n",
            "360/360 [==============================] - 18s 51ms/step - loss: 1.1249 - accuracy: 0.5717 - val_loss: 1.2230 - val_accuracy: 0.5396\n",
            "Epoch 34/100\n",
            "360/360 [==============================] - ETA: 0s - loss: 1.1182 - accuracy: 0.5769\n",
            "Epoch 00034: val_loss improved from 1.22255 to 1.17226, saving model to Ashish_Facial_Exp.hdf5\n",
            "360/360 [==============================] - 20s 54ms/step - loss: 1.1182 - accuracy: 0.5769 - val_loss: 1.1723 - val_accuracy: 0.5575\n",
            "Epoch 35/100\n",
            "360/360 [==============================] - ETA: 0s - loss: 1.1183 - accuracy: 0.5744\n",
            "Epoch 00035: val_loss did not improve from 1.17226\n",
            "360/360 [==============================] - 20s 56ms/step - loss: 1.1183 - accuracy: 0.5744 - val_loss: 1.1863 - val_accuracy: 0.5480\n",
            "Epoch 36/100\n",
            "360/360 [==============================] - ETA: 0s - loss: 1.1057 - accuracy: 0.5824\n",
            "Epoch 00036: val_loss did not improve from 1.17226\n",
            "360/360 [==============================] - 20s 55ms/step - loss: 1.1057 - accuracy: 0.5824 - val_loss: 1.2612 - val_accuracy: 0.5145\n",
            "Epoch 37/100\n",
            "360/360 [==============================] - ETA: 0s - loss: 1.1050 - accuracy: 0.5832\n",
            "Epoch 00037: val_loss did not improve from 1.17226\n",
            "360/360 [==============================] - 19s 54ms/step - loss: 1.1050 - accuracy: 0.5832 - val_loss: 1.1765 - val_accuracy: 0.5544\n",
            "Epoch 38/100\n",
            "360/360 [==============================] - ETA: 0s - loss: 1.1073 - accuracy: 0.5827\n",
            "Epoch 00038: val_loss did not improve from 1.17226\n",
            "360/360 [==============================] - 18s 51ms/step - loss: 1.1073 - accuracy: 0.5827 - val_loss: 1.2747 - val_accuracy: 0.5376\n",
            "Epoch 39/100\n",
            "360/360 [==============================] - ETA: 0s - loss: 1.0953 - accuracy: 0.5857\n",
            "Epoch 00039: val_loss did not improve from 1.17226\n",
            "360/360 [==============================] - 19s 54ms/step - loss: 1.0953 - accuracy: 0.5857 - val_loss: 1.4734 - val_accuracy: 0.4199\n",
            "Epoch 40/100\n",
            "359/360 [============================>.] - ETA: 0s - loss: 1.0850 - accuracy: 0.5878\n",
            "Epoch 00040: val_loss did not improve from 1.17226\n",
            "360/360 [==============================] - 19s 52ms/step - loss: 1.0845 - accuracy: 0.5880 - val_loss: 1.2681 - val_accuracy: 0.5044\n",
            "Epoch 41/100\n",
            "360/360 [==============================] - ETA: 0s - loss: 1.0891 - accuracy: 0.5891\n",
            "Epoch 00041: val_loss did not improve from 1.17226\n",
            "360/360 [==============================] - 19s 52ms/step - loss: 1.0891 - accuracy: 0.5891 - val_loss: 1.5238 - val_accuracy: 0.4182\n",
            "Epoch 42/100\n",
            "360/360 [==============================] - ETA: 0s - loss: 1.0818 - accuracy: 0.5897\n",
            "Epoch 00042: val_loss did not improve from 1.17226\n",
            "360/360 [==============================] - 19s 54ms/step - loss: 1.0818 - accuracy: 0.5897 - val_loss: 1.1804 - val_accuracy: 0.5466\n",
            "Epoch 43/100\n",
            "360/360 [==============================] - ETA: 0s - loss: 1.0837 - accuracy: 0.5889\n",
            "Epoch 00043: val_loss did not improve from 1.17226\n",
            "360/360 [==============================] - 18s 51ms/step - loss: 1.0837 - accuracy: 0.5889 - val_loss: 1.2592 - val_accuracy: 0.5424\n",
            "Epoch 44/100\n",
            "360/360 [==============================] - ETA: 0s - loss: 1.0689 - accuracy: 0.5961\n",
            "Epoch 00044: val_loss did not improve from 1.17226\n",
            "360/360 [==============================] - 18s 51ms/step - loss: 1.0689 - accuracy: 0.5961 - val_loss: 1.2563 - val_accuracy: 0.5171\n",
            "Epoch 45/100\n",
            "360/360 [==============================] - ETA: 0s - loss: 1.0627 - accuracy: 0.5982\n",
            "Epoch 00045: val_loss improved from 1.17226 to 1.16261, saving model to Ashish_Facial_Exp.hdf5\n",
            "360/360 [==============================] - 19s 52ms/step - loss: 1.0627 - accuracy: 0.5982 - val_loss: 1.1626 - val_accuracy: 0.5591\n",
            "Epoch 46/100\n",
            "360/360 [==============================] - ETA: 0s - loss: 1.0615 - accuracy: 0.5983\n",
            "Epoch 00046: val_loss did not improve from 1.16261\n",
            "360/360 [==============================] - 19s 53ms/step - loss: 1.0615 - accuracy: 0.5983 - val_loss: 1.1749 - val_accuracy: 0.5625\n",
            "Epoch 47/100\n",
            "360/360 [==============================] - ETA: 0s - loss: 1.0640 - accuracy: 0.5970\n",
            "Epoch 00047: val_loss did not improve from 1.16261\n",
            "360/360 [==============================] - 21s 58ms/step - loss: 1.0640 - accuracy: 0.5970 - val_loss: 1.3508 - val_accuracy: 0.4820\n",
            "Epoch 48/100\n",
            "360/360 [==============================] - ETA: 0s - loss: 1.0568 - accuracy: 0.5979\n",
            "Epoch 00048: val_loss did not improve from 1.16261\n",
            "360/360 [==============================] - 21s 57ms/step - loss: 1.0568 - accuracy: 0.5979 - val_loss: 1.2068 - val_accuracy: 0.5277\n",
            "Epoch 49/100\n",
            "360/360 [==============================] - ETA: 0s - loss: 1.0406 - accuracy: 0.6073\n",
            "Epoch 00049: val_loss did not improve from 1.16261\n",
            "360/360 [==============================] - 21s 59ms/step - loss: 1.0406 - accuracy: 0.6073 - val_loss: 1.2270 - val_accuracy: 0.5202\n",
            "Epoch 50/100\n",
            "360/360 [==============================] - ETA: 0s - loss: 1.0397 - accuracy: 0.6075\n",
            "Epoch 00050: val_loss did not improve from 1.16261\n",
            "360/360 [==============================] - 20s 55ms/step - loss: 1.0397 - accuracy: 0.6075 - val_loss: 1.1888 - val_accuracy: 0.5598\n",
            "Epoch 51/100\n",
            "360/360 [==============================] - ETA: 0s - loss: 1.0405 - accuracy: 0.6056\n",
            "Epoch 00051: val_loss did not improve from 1.16261\n",
            "360/360 [==============================] - 22s 60ms/step - loss: 1.0405 - accuracy: 0.6056 - val_loss: 1.1834 - val_accuracy: 0.5596\n",
            "Epoch 52/100\n",
            "360/360 [==============================] - ETA: 0s - loss: 1.0383 - accuracy: 0.6122\n",
            "Epoch 00052: val_loss did not improve from 1.16261\n",
            "360/360 [==============================] - 22s 60ms/step - loss: 1.0383 - accuracy: 0.6122 - val_loss: 1.3281 - val_accuracy: 0.4895\n",
            "Epoch 53/100\n",
            "360/360 [==============================] - ETA: 0s - loss: 1.0316 - accuracy: 0.6112\n",
            "Epoch 00053: val_loss did not improve from 1.16261\n",
            "360/360 [==============================] - 21s 58ms/step - loss: 1.0316 - accuracy: 0.6112 - val_loss: 1.1715 - val_accuracy: 0.5636\n",
            "Epoch 54/100\n",
            "359/360 [============================>.] - ETA: 0s - loss: 1.0317 - accuracy: 0.6110\n",
            "Epoch 00054: val_loss did not improve from 1.16261\n",
            "360/360 [==============================] - 20s 56ms/step - loss: 1.0316 - accuracy: 0.6110 - val_loss: 1.2231 - val_accuracy: 0.5376\n",
            "Epoch 55/100\n",
            "360/360 [==============================] - ETA: 0s - loss: 1.0195 - accuracy: 0.6124\n",
            "Epoch 00055: val_loss did not improve from 1.16261\n",
            "360/360 [==============================] - 21s 58ms/step - loss: 1.0195 - accuracy: 0.6124 - val_loss: 1.1881 - val_accuracy: 0.5551\n",
            "Epoch 56/100\n",
            "360/360 [==============================] - ETA: 0s - loss: 1.0163 - accuracy: 0.6148\n",
            "Epoch 00056: val_loss did not improve from 1.16261\n",
            "360/360 [==============================] - 21s 58ms/step - loss: 1.0163 - accuracy: 0.6148 - val_loss: 1.2420 - val_accuracy: 0.5382\n",
            "Epoch 57/100\n",
            "360/360 [==============================] - ETA: 0s - loss: 1.0140 - accuracy: 0.6156\n",
            "Epoch 00057: val_loss did not improve from 1.16261\n",
            "360/360 [==============================] - 20s 55ms/step - loss: 1.0140 - accuracy: 0.6156 - val_loss: 1.2878 - val_accuracy: 0.5443\n",
            "Epoch 58/100\n",
            "360/360 [==============================] - ETA: 0s - loss: 1.0139 - accuracy: 0.6151\n",
            "Epoch 00058: val_loss did not improve from 1.16261\n",
            "360/360 [==============================] - 21s 58ms/step - loss: 1.0139 - accuracy: 0.6151 - val_loss: 1.2721 - val_accuracy: 0.5075\n",
            "Epoch 59/100\n",
            "360/360 [==============================] - ETA: 0s - loss: 1.0062 - accuracy: 0.6195\n",
            "Epoch 00059: val_loss did not improve from 1.16261\n",
            "360/360 [==============================] - 22s 61ms/step - loss: 1.0062 - accuracy: 0.6195 - val_loss: 1.1731 - val_accuracy: 0.5532\n",
            "Epoch 60/100\n",
            "360/360 [==============================] - ETA: 0s - loss: 1.0009 - accuracy: 0.6232\n",
            "Epoch 00060: val_loss did not improve from 1.16261\n",
            "360/360 [==============================] - 22s 60ms/step - loss: 1.0009 - accuracy: 0.6232 - val_loss: 1.1887 - val_accuracy: 0.5537\n",
            "Epoch 61/100\n",
            "360/360 [==============================] - ETA: 0s - loss: 0.9912 - accuracy: 0.6293\n",
            "Epoch 00061: val_loss did not improve from 1.16261\n",
            "360/360 [==============================] - 21s 58ms/step - loss: 0.9912 - accuracy: 0.6293 - val_loss: 1.2157 - val_accuracy: 0.5421\n",
            "Epoch 62/100\n",
            "360/360 [==============================] - ETA: 0s - loss: 1.0003 - accuracy: 0.6239\n",
            "Epoch 00062: val_loss improved from 1.16261 to 1.15477, saving model to Ashish_Facial_Exp.hdf5\n",
            "360/360 [==============================] - 22s 62ms/step - loss: 1.0003 - accuracy: 0.6239 - val_loss: 1.1548 - val_accuracy: 0.5608\n",
            "Epoch 63/100\n",
            "360/360 [==============================] - ETA: 0s - loss: 0.9912 - accuracy: 0.6265\n",
            "Epoch 00063: val_loss did not improve from 1.15477\n",
            "360/360 [==============================] - 20s 57ms/step - loss: 0.9912 - accuracy: 0.6265 - val_loss: 1.2159 - val_accuracy: 0.5454\n",
            "Epoch 64/100\n",
            "359/360 [============================>.] - ETA: 0s - loss: 0.9879 - accuracy: 0.6243\n",
            "Epoch 00064: val_loss did not improve from 1.15477\n",
            "360/360 [==============================] - 19s 54ms/step - loss: 0.9877 - accuracy: 0.6244 - val_loss: 1.3146 - val_accuracy: 0.4940\n",
            "Epoch 65/100\n",
            "359/360 [============================>.] - ETA: 0s - loss: 0.9788 - accuracy: 0.6306\n",
            "Epoch 00065: val_loss did not improve from 1.15477\n",
            "360/360 [==============================] - 21s 57ms/step - loss: 0.9785 - accuracy: 0.6307 - val_loss: 1.2040 - val_accuracy: 0.5528\n",
            "Epoch 66/100\n",
            "359/360 [============================>.] - ETA: 0s - loss: 0.9805 - accuracy: 0.6338\n",
            "Epoch 00066: val_loss did not improve from 1.15477\n",
            "360/360 [==============================] - 21s 58ms/step - loss: 0.9802 - accuracy: 0.6339 - val_loss: 1.1974 - val_accuracy: 0.5748\n",
            "Epoch 67/100\n",
            "360/360 [==============================] - ETA: 0s - loss: 0.9722 - accuracy: 0.6317\n",
            "Epoch 00067: val_loss did not improve from 1.15477\n",
            "360/360 [==============================] - 21s 60ms/step - loss: 0.9722 - accuracy: 0.6317 - val_loss: 1.3621 - val_accuracy: 0.5370\n",
            "Epoch 68/100\n",
            "360/360 [==============================] - ETA: 0s - loss: 0.9745 - accuracy: 0.6302\n",
            "Epoch 00068: val_loss did not improve from 1.15477\n",
            "360/360 [==============================] - 22s 60ms/step - loss: 0.9745 - accuracy: 0.6302 - val_loss: 1.3865 - val_accuracy: 0.4626\n",
            "Epoch 69/100\n",
            "360/360 [==============================] - ETA: 0s - loss: 0.9702 - accuracy: 0.6340\n",
            "Epoch 00069: val_loss did not improve from 1.15477\n",
            "360/360 [==============================] - 23s 64ms/step - loss: 0.9702 - accuracy: 0.6340 - val_loss: 1.3143 - val_accuracy: 0.4905\n",
            "Epoch 70/100\n",
            "360/360 [==============================] - ETA: 0s - loss: 0.9612 - accuracy: 0.6383\n",
            "Epoch 00070: val_loss did not improve from 1.15477\n",
            "360/360 [==============================] - 23s 64ms/step - loss: 0.9612 - accuracy: 0.6383 - val_loss: 1.3263 - val_accuracy: 0.4989\n",
            "Epoch 71/100\n",
            "360/360 [==============================] - ETA: 0s - loss: 0.9648 - accuracy: 0.6350\n",
            "Epoch 00071: val_loss did not improve from 1.15477\n",
            "360/360 [==============================] - 21s 59ms/step - loss: 0.9648 - accuracy: 0.6350 - val_loss: 1.2205 - val_accuracy: 0.5370\n",
            "Epoch 72/100\n",
            "360/360 [==============================] - ETA: 0s - loss: 0.9652 - accuracy: 0.6364\n",
            "Epoch 00072: val_loss did not improve from 1.15477\n",
            "360/360 [==============================] - 22s 60ms/step - loss: 0.9652 - accuracy: 0.6364 - val_loss: 1.2341 - val_accuracy: 0.5311\n",
            "Epoch 73/100\n",
            "359/360 [============================>.] - ETA: 0s - loss: 0.9550 - accuracy: 0.6394\n",
            "Epoch 00073: val_loss improved from 1.15477 to 1.15010, saving model to Ashish_Facial_Exp.hdf5\n",
            "360/360 [==============================] - 21s 59ms/step - loss: 0.9552 - accuracy: 0.6393 - val_loss: 1.1501 - val_accuracy: 0.5690\n",
            "Epoch 74/100\n",
            "360/360 [==============================] - ETA: 0s - loss: 0.9579 - accuracy: 0.6353\n",
            "Epoch 00074: val_loss did not improve from 1.15010\n",
            "360/360 [==============================] - 21s 58ms/step - loss: 0.9579 - accuracy: 0.6353 - val_loss: 1.1790 - val_accuracy: 0.5539\n",
            "Epoch 75/100\n",
            "360/360 [==============================] - ETA: 0s - loss: 0.9574 - accuracy: 0.6395\n",
            "Epoch 00075: val_loss did not improve from 1.15010\n",
            "360/360 [==============================] - 23s 63ms/step - loss: 0.9574 - accuracy: 0.6395 - val_loss: 1.2585 - val_accuracy: 0.5313\n",
            "Epoch 76/100\n",
            "360/360 [==============================] - ETA: 0s - loss: 0.9414 - accuracy: 0.6462\n",
            "Epoch 00076: val_loss did not improve from 1.15010\n",
            "360/360 [==============================] - 21s 58ms/step - loss: 0.9414 - accuracy: 0.6462 - val_loss: 1.1795 - val_accuracy: 0.5596\n",
            "Epoch 77/100\n",
            "360/360 [==============================] - ETA: 0s - loss: 0.9346 - accuracy: 0.6485\n",
            "Epoch 00077: val_loss did not improve from 1.15010\n",
            "360/360 [==============================] - 22s 61ms/step - loss: 0.9346 - accuracy: 0.6485 - val_loss: 1.2402 - val_accuracy: 0.5558\n",
            "Epoch 78/100\n",
            "360/360 [==============================] - ETA: 0s - loss: 0.9332 - accuracy: 0.6493\n",
            "Epoch 00078: val_loss did not improve from 1.15010\n",
            "360/360 [==============================] - 22s 62ms/step - loss: 0.9332 - accuracy: 0.6493 - val_loss: 1.2011 - val_accuracy: 0.5679\n",
            "Epoch 79/100\n",
            "360/360 [==============================] - ETA: 0s - loss: 0.9226 - accuracy: 0.6532\n",
            "Epoch 00079: val_loss did not improve from 1.15010\n",
            "360/360 [==============================] - 20s 57ms/step - loss: 0.9226 - accuracy: 0.6532 - val_loss: 1.5694 - val_accuracy: 0.4434\n",
            "Epoch 80/100\n",
            "360/360 [==============================] - ETA: 0s - loss: 0.9341 - accuracy: 0.6486\n",
            "Epoch 00080: val_loss did not improve from 1.15010\n",
            "360/360 [==============================] - 21s 59ms/step - loss: 0.9341 - accuracy: 0.6486 - val_loss: 1.2930 - val_accuracy: 0.5592\n",
            "Epoch 81/100\n",
            "360/360 [==============================] - ETA: 0s - loss: 0.9276 - accuracy: 0.6495\n",
            "Epoch 00081: val_loss did not improve from 1.15010\n",
            "360/360 [==============================] - 22s 61ms/step - loss: 0.9276 - accuracy: 0.6495 - val_loss: 1.2560 - val_accuracy: 0.5395\n",
            "Epoch 82/100\n",
            "360/360 [==============================] - ETA: 0s - loss: 0.9216 - accuracy: 0.6534\n",
            "Epoch 00082: val_loss did not improve from 1.15010\n",
            "360/360 [==============================] - 21s 58ms/step - loss: 0.9216 - accuracy: 0.6534 - val_loss: 1.2499 - val_accuracy: 0.5381\n",
            "Epoch 83/100\n",
            "360/360 [==============================] - ETA: 0s - loss: 0.9207 - accuracy: 0.6534\n",
            "Epoch 00083: val_loss did not improve from 1.15010\n",
            "360/360 [==============================] - 20s 56ms/step - loss: 0.9207 - accuracy: 0.6534 - val_loss: 1.1686 - val_accuracy: 0.5643\n",
            "Epoch 84/100\n",
            "360/360 [==============================] - ETA: 0s - loss: 0.9168 - accuracy: 0.6551\n",
            "Epoch 00084: val_loss did not improve from 1.15010\n",
            "360/360 [==============================] - 20s 56ms/step - loss: 0.9168 - accuracy: 0.6551 - val_loss: 1.1862 - val_accuracy: 0.5705\n",
            "Epoch 85/100\n",
            "360/360 [==============================] - ETA: 0s - loss: 0.9099 - accuracy: 0.6558\n",
            "Epoch 00085: val_loss did not improve from 1.15010\n",
            "360/360 [==============================] - 21s 57ms/step - loss: 0.9099 - accuracy: 0.6558 - val_loss: 1.4157 - val_accuracy: 0.4730\n",
            "Epoch 86/100\n",
            "360/360 [==============================] - ETA: 0s - loss: 0.9068 - accuracy: 0.6573\n",
            "Epoch 00086: val_loss did not improve from 1.15010\n",
            "360/360 [==============================] - 21s 59ms/step - loss: 0.9068 - accuracy: 0.6573 - val_loss: 1.1882 - val_accuracy: 0.5657\n",
            "Epoch 87/100\n",
            "360/360 [==============================] - ETA: 0s - loss: 0.9031 - accuracy: 0.6567\n",
            "Epoch 00087: val_loss did not improve from 1.15010\n",
            "360/360 [==============================] - 20s 56ms/step - loss: 0.9031 - accuracy: 0.6567 - val_loss: 1.2944 - val_accuracy: 0.5254\n",
            "Epoch 88/100\n",
            "360/360 [==============================] - ETA: 0s - loss: 0.9030 - accuracy: 0.6602\n",
            "Epoch 00088: val_loss did not improve from 1.15010\n",
            "360/360 [==============================] - 22s 60ms/step - loss: 0.9030 - accuracy: 0.6602 - val_loss: 1.1600 - val_accuracy: 0.5799\n",
            "Epoch 89/100\n",
            "360/360 [==============================] - ETA: 0s - loss: 0.8903 - accuracy: 0.6650\n",
            "Epoch 00089: val_loss did not improve from 1.15010\n",
            "360/360 [==============================] - 21s 59ms/step - loss: 0.8903 - accuracy: 0.6650 - val_loss: 1.2682 - val_accuracy: 0.5310\n",
            "Epoch 90/100\n",
            "360/360 [==============================] - ETA: 0s - loss: 0.8989 - accuracy: 0.6602\n",
            "Epoch 00090: val_loss did not improve from 1.15010\n",
            "360/360 [==============================] - 20s 57ms/step - loss: 0.8989 - accuracy: 0.6602 - val_loss: 1.2020 - val_accuracy: 0.5587\n",
            "Epoch 91/100\n",
            "359/360 [============================>.] - ETA: 0s - loss: 0.8953 - accuracy: 0.6630\n",
            "Epoch 00091: val_loss did not improve from 1.15010\n",
            "360/360 [==============================] - 20s 55ms/step - loss: 0.8951 - accuracy: 0.6630 - val_loss: 1.1959 - val_accuracy: 0.5599\n",
            "Epoch 92/100\n",
            "360/360 [==============================] - ETA: 0s - loss: 0.8932 - accuracy: 0.6637\n",
            "Epoch 00092: val_loss improved from 1.15010 to 1.14115, saving model to Ashish_Facial_Exp.hdf5\n",
            "360/360 [==============================] - 21s 58ms/step - loss: 0.8932 - accuracy: 0.6637 - val_loss: 1.1412 - val_accuracy: 0.5780\n",
            "Epoch 93/100\n",
            "360/360 [==============================] - ETA: 0s - loss: 0.8913 - accuracy: 0.6635\n",
            "Epoch 00093: val_loss did not improve from 1.14115\n",
            "360/360 [==============================] - 21s 59ms/step - loss: 0.8913 - accuracy: 0.6635 - val_loss: 1.2032 - val_accuracy: 0.5580\n",
            "Epoch 94/100\n",
            "360/360 [==============================] - ETA: 0s - loss: 0.8857 - accuracy: 0.6690\n",
            "Epoch 00094: val_loss did not improve from 1.14115\n",
            "360/360 [==============================] - 21s 57ms/step - loss: 0.8857 - accuracy: 0.6690 - val_loss: 1.2117 - val_accuracy: 0.5769\n",
            "Epoch 95/100\n",
            "360/360 [==============================] - ETA: 0s - loss: 0.8797 - accuracy: 0.6703\n",
            "Epoch 00095: val_loss did not improve from 1.14115\n",
            "360/360 [==============================] - 21s 58ms/step - loss: 0.8797 - accuracy: 0.6703 - val_loss: 1.1842 - val_accuracy: 0.5814\n",
            "Epoch 96/100\n",
            "360/360 [==============================] - ETA: 0s - loss: 0.8718 - accuracy: 0.6722\n",
            "Epoch 00096: val_loss did not improve from 1.14115\n",
            "360/360 [==============================] - 21s 59ms/step - loss: 0.8718 - accuracy: 0.6722 - val_loss: 1.2515 - val_accuracy: 0.5703\n",
            "Epoch 97/100\n",
            "359/360 [============================>.] - ETA: 0s - loss: 0.8681 - accuracy: 0.6745\n",
            "Epoch 00097: val_loss did not improve from 1.14115\n",
            "360/360 [==============================] - 20s 57ms/step - loss: 0.8678 - accuracy: 0.6746 - val_loss: 1.3043 - val_accuracy: 0.5318\n",
            "Epoch 98/100\n",
            "360/360 [==============================] - ETA: 0s - loss: 0.8738 - accuracy: 0.6738\n",
            "Epoch 00098: val_loss did not improve from 1.14115\n",
            "360/360 [==============================] - 22s 61ms/step - loss: 0.8738 - accuracy: 0.6738 - val_loss: 1.1829 - val_accuracy: 0.5707\n",
            "Epoch 99/100\n",
            "359/360 [============================>.] - ETA: 0s - loss: 0.8680 - accuracy: 0.6745\n",
            "Epoch 00099: val_loss did not improve from 1.14115\n",
            "360/360 [==============================] - 20s 55ms/step - loss: 0.8685 - accuracy: 0.6743 - val_loss: 1.1645 - val_accuracy: 0.5922\n",
            "Epoch 100/100\n",
            "360/360 [==============================] - ETA: 0s - loss: 0.8654 - accuracy: 0.6752\n",
            "Epoch 00100: val_loss did not improve from 1.14115\n",
            "360/360 [==============================] - 20s 56ms/step - loss: 0.8654 - accuracy: 0.6752 - val_loss: 1.1981 - val_accuracy: 0.5707\n"
          ]
        }
      ]
    },
    {
      "cell_type": "code",
      "metadata": {
        "colab": {
          "base_uri": "https://localhost:8080/"
        },
        "id": "C683SC0W6mXJ",
        "outputId": "5e61cea7-e01a-4fd0-8cf9-65486eabb16d"
      },
      "source": [
        "# Saving the model architecture to json file for future use\n",
        "\n",
        "model_json = model_emotion.to_json()\n",
        "with open(\"Ashish_Facial_Exp.json\",\"w\") as json_file:\n",
        "  json_file.write(model_json)"
      ],
      "execution_count": 36,
      "outputs": [
        {
          "output_type": "stream",
          "name": "stderr",
          "text": [
            "/usr/local/lib/python3.7/dist-packages/keras/engine/functional.py:1410: CustomMaskWarning: Custom mask layers require a config and must override get_config. When loading, the custom mask layer must be passed to the custom_objects argument.\n",
            "  layer_config = serialize_layer_fn(layer)\n"
          ]
        }
      ]
    },
    {
      "cell_type": "code",
      "metadata": {
        "colab": {
          "base_uri": "https://localhost:8080/"
        },
        "id": "R6A5qk6n67L6",
        "outputId": "684c943e-5880-416a-cf8e-084004f3b5fe"
      },
      "source": [
        "history.history.keys()"
      ],
      "execution_count": 37,
      "outputs": [
        {
          "output_type": "execute_result",
          "data": {
            "text/plain": [
              "dict_keys(['loss', 'accuracy', 'val_loss', 'val_accuracy'])"
            ]
          },
          "metadata": {},
          "execution_count": 37
        }
      ]
    },
    {
      "cell_type": "code",
      "metadata": {
        "id": "z1M0zKy3698H"
      },
      "source": [
        "accuracy = history.history['accuracy']\n",
        "val_accuracy = history.history['val_accuracy']\n",
        "loss = history.history['loss']\n",
        "val_loss = history.history['val_loss']"
      ],
      "execution_count": 38,
      "outputs": []
    },
    {
      "cell_type": "code",
      "metadata": {
        "colab": {
          "base_uri": "https://localhost:8080/",
          "height": 298
        },
        "id": "2-RY_rjE7A00",
        "outputId": "0ad15f7e-4383-45d6-d95b-9b321db72d98"
      },
      "source": [
        "epochs = range(len(accuracy))\n",
        "\n",
        "plt.plot(epochs, accuracy, 'bo', label='Training Accuracy')\n",
        "plt.plot(epochs, val_accuracy, 'b', label='Validation Accuracy')\n",
        "plt.title('Training and Validation Accuracy')\n",
        "plt.legend()"
      ],
      "execution_count": 39,
      "outputs": [
        {
          "output_type": "execute_result",
          "data": {
            "text/plain": [
              "<matplotlib.legend.Legend at 0x7fd5ffb49050>"
            ]
          },
          "metadata": {},
          "execution_count": 39
        },
        {
          "output_type": "display_data",
          "data": {
            "image/png": "[encoded data removed]",
            "text/plain": [
              "<Figure size 432x288 with 1 Axes>"
            ]
          },
          "metadata": {
            "needs_background": "light"
          }
        }
      ]
    },
    {
      "cell_type": "code",
      "metadata": {
        "colab": {
          "base_uri": "https://localhost:8080/",
          "height": 298
        },
        "id": "vqIvQLMC7LYl",
        "outputId": "8cc2e36e-1a14-4571-8686-af4dd4865129"
      },
      "source": [
        "plt.plot(epochs, loss, 'ro', label='Training loss')\n",
        "plt.plot(epochs, val_loss, 'r', label='Validation loss')\n",
        "plt.title('Training and Validation loss')\n",
        "plt.legend()"
      ],
      "execution_count": 40,
      "outputs": [
        {
          "output_type": "execute_result",
          "data": {
            "text/plain": [
              "<matplotlib.legend.Legend at 0x7fd66fbdd090>"
            ]
          },
          "metadata": {},
          "execution_count": 40
        },
        {
          "output_type": "display_data",
          "data": {
            "image/png": "[encoded data removed]",
            "text/plain": [
              "<Figure size 432x288 with 1 Axes>"
            ]
          },
          "metadata": {
            "needs_background": "light"
          }
        }
      ]
    },
    {
      "cell_type": "code",
      "metadata": {
        "colab": {
          "base_uri": "https://localhost:8080/"
        },
        "id": "Yd3cVpvhA79E",
        "outputId": "55285835-ac72-463d-ea83-833e55aa0c9e"
      },
      "source": [
        "model_emotion.save('/content/drive/MyDrive/AVA Retail/Ashish_Facial_Exp.h5')"
      ],
      "execution_count": 42,
      "outputs": [
        {
          "output_type": "stream",
          "name": "stderr",
          "text": [
            "/usr/local/lib/python3.7/dist-packages/keras/engine/functional.py:1410: CustomMaskWarning: Custom mask layers require a config and must override get_config. When loading, the custom mask layer must be passed to the custom_objects argument.\n",
            "  layer_config = serialize_layer_fn(layer)\n"
          ]
        }
      ]
    },
    {
      "cell_type": "code",
      "metadata": {
        "colab": {
          "base_uri": "https://localhost:8080/"
        },
        "id": "CJ6JpKogEKjJ",
        "outputId": "e60a96dd-517a-4725-cd6d-57d91c9407d4"
      },
      "source": [
        "from tensorflow.keras.models import load_model\n",
        "new_model = load_model('/content/drive/MyDrive/AVA Retail/Ashish_Facial_Exp.h5')\n",
        "new_model.summary()"
      ],
      "execution_count": 4,
      "outputs": [
        {
          "output_type": "stream",
          "name": "stdout",
          "text": [
            "Model: \"Custom-Resnet\"\n",
            "__________________________________________________________________________________________________\n",
            " Layer (type)                   Output Shape         Param #     Connected to                     \n",
            "==================================================================================================\n",
            " input_3 (InputLayer)           [(None, 48, 48, 1)]  0           []                               \n",
            "                                                                                                  \n",
            " zero_padding2d_2 (ZeroPadding2  (None, 54, 54, 1)   0           ['input_3[0][0]']                \n",
            " D)                                                                                               \n",
            "                                                                                                  \n",
            " conv1 (Conv2D)                 (None, 24, 24, 64)   3200        ['zero_padding2d_2[0][0]']       \n",
            "                                                                                                  \n",
            " bn_conv1 (BatchNormalization)  (None, 24, 24, 64)   256         ['conv1[0][0]']                  \n",
            "                                                                                                  \n",
            " activation_38 (Activation)     (None, 24, 24, 64)   0           ['bn_conv1[0][0]']               \n",
            "                                                                                                  \n",
            " max_pooling2d_10 (MaxPooling2D  (None, 11, 11, 64)  0           ['activation_38[0][0]']          \n",
            " )                                                                                                \n",
            "                                                                                                  \n",
            " res_2_conv_a (Conv2D)          (None, 11, 11, 64)   4160        ['max_pooling2d_10[0][0]']       \n",
            "                                                                                                  \n",
            " max_pooling2d_11 (MaxPooling2D  (None, 5, 5, 64)    0           ['res_2_conv_a[0][0]']           \n",
            " )                                                                                                \n",
            "                                                                                                  \n",
            " bn_2_conv_a (BatchNormalizatio  (None, 5, 5, 64)    256         ['max_pooling2d_11[0][0]']       \n",
            " n)                                                                                               \n",
            "                                                                                                  \n",
            " activation_39 (Activation)     (None, 5, 5, 64)     0           ['bn_2_conv_a[0][0]']            \n",
            "                                                                                                  \n",
            " res_2_conv_b (Conv2D)          (None, 5, 5, 64)     36928       ['activation_39[0][0]']          \n",
            "                                                                                                  \n",
            " bn_2_conv_b (BatchNormalizatio  (None, 5, 5, 64)    256         ['res_2_conv_b[0][0]']           \n",
            " n)                                                                                               \n",
            "                                                                                                  \n",
            " activation_40 (Activation)     (None, 5, 5, 64)     0           ['bn_2_conv_b[0][0]']            \n",
            "                                                                                                  \n",
            " res_2_conv_copy (Conv2D)       (None, 11, 11, 256)  16640       ['max_pooling2d_10[0][0]']       \n",
            "                                                                                                  \n",
            " res_2_conv_c (Conv2D)          (None, 5, 5, 256)    16640       ['activation_40[0][0]']          \n",
            "                                                                                                  \n",
            " max_pooling2d_12 (MaxPooling2D  (None, 5, 5, 256)   0           ['res_2_conv_copy[0][0]']        \n",
            " )                                                                                                \n",
            "                                                                                                  \n",
            " bn_2_conv_c (BatchNormalizatio  (None, 5, 5, 256)   1024        ['res_2_conv_c[0][0]']           \n",
            " n)                                                                                               \n",
            "                                                                                                  \n",
            " bn_2_conv_copy (BatchNormaliza  (None, 5, 5, 256)   1024        ['max_pooling2d_12[0][0]']       \n",
            " tion)                                                                                            \n",
            "                                                                                                  \n",
            " add_12 (Add)                   (None, 5, 5, 256)    0           ['bn_2_conv_c[0][0]',            \n",
            "                                                                  'bn_2_conv_copy[0][0]']         \n",
            "                                                                                                  \n",
            " activation_41 (Activation)     (None, 5, 5, 256)    0           ['add_12[0][0]']                 \n",
            "                                                                                                  \n",
            " res_2_identity_1_a (Conv2D)    (None, 5, 5, 64)     16448       ['activation_41[0][0]']          \n",
            "                                                                                                  \n",
            " bn_2_identity_1_a (BatchNormal  (None, 5, 5, 64)    256         ['res_2_identity_1_a[0][0]']     \n",
            " ization)                                                                                         \n",
            "                                                                                                  \n",
            " activation_42 (Activation)     (None, 5, 5, 64)     0           ['bn_2_identity_1_a[0][0]']      \n",
            "                                                                                                  \n",
            " res_2_identity_1_b (Conv2D)    (None, 5, 5, 64)     36928       ['activation_42[0][0]']          \n",
            "                                                                                                  \n",
            " bn_2_identity_1_b (BatchNormal  (None, 5, 5, 64)    256         ['res_2_identity_1_b[0][0]']     \n",
            " ization)                                                                                         \n",
            "                                                                                                  \n",
            " activation_43 (Activation)     (None, 5, 5, 64)     0           ['bn_2_identity_1_b[0][0]']      \n",
            "                                                                                                  \n",
            " res_2_identity_1_c (Conv2D)    (None, 5, 5, 256)    16640       ['activation_43[0][0]']          \n",
            "                                                                                                  \n",
            " bn_2_identity_1_c (BatchNormal  (None, 5, 5, 256)   1024        ['res_2_identity_1_c[0][0]']     \n",
            " ization)                                                                                         \n",
            "                                                                                                  \n",
            " add_13 (Add)                   (None, 5, 5, 256)    0           ['bn_2_identity_1_c[0][0]',      \n",
            "                                                                  'activation_41[0][0]']          \n",
            "                                                                                                  \n",
            " activation_44 (Activation)     (None, 5, 5, 256)    0           ['add_13[0][0]']                 \n",
            "                                                                                                  \n",
            " res_2_identity_2_a (Conv2D)    (None, 5, 5, 64)     16448       ['activation_44[0][0]']          \n",
            "                                                                                                  \n",
            " bn_2_identity_2_a (BatchNormal  (None, 5, 5, 64)    256         ['res_2_identity_2_a[0][0]']     \n",
            " ization)                                                                                         \n",
            "                                                                                                  \n",
            " activation_45 (Activation)     (None, 5, 5, 64)     0           ['bn_2_identity_2_a[0][0]']      \n",
            "                                                                                                  \n",
            " res_2_identity_2_b (Conv2D)    (None, 5, 5, 64)     36928       ['activation_45[0][0]']          \n",
            "                                                                                                  \n",
            " bn_2_identity_2_b (BatchNormal  (None, 5, 5, 64)    256         ['res_2_identity_2_b[0][0]']     \n",
            " ization)                                                                                         \n",
            "                                                                                                  \n",
            " activation_46 (Activation)     (None, 5, 5, 64)     0           ['bn_2_identity_2_b[0][0]']      \n",
            "                                                                                                  \n",
            " res_2_identity_2_c (Conv2D)    (None, 5, 5, 256)    16640       ['activation_46[0][0]']          \n",
            "                                                                                                  \n",
            " bn_2_identity_2_c (BatchNormal  (None, 5, 5, 256)   1024        ['res_2_identity_2_c[0][0]']     \n",
            " ization)                                                                                         \n",
            "                                                                                                  \n",
            " add_14 (Add)                   (None, 5, 5, 256)    0           ['bn_2_identity_2_c[0][0]',      \n",
            "                                                                  'activation_44[0][0]']          \n",
            "                                                                                                  \n",
            " activation_47 (Activation)     (None, 5, 5, 256)    0           ['add_14[0][0]']                 \n",
            "                                                                                                  \n",
            " res_3_conv_a (Conv2D)          (None, 5, 5, 128)    32896       ['activation_47[0][0]']          \n",
            "                                                                                                  \n",
            " max_pooling2d_13 (MaxPooling2D  (None, 2, 2, 128)   0           ['res_3_conv_a[0][0]']           \n",
            " )                                                                                                \n",
            "                                                                                                  \n",
            " bn_3_conv_a (BatchNormalizatio  (None, 2, 2, 128)   512         ['max_pooling2d_13[0][0]']       \n",
            " n)                                                                                               \n",
            "                                                                                                  \n",
            " activation_48 (Activation)     (None, 2, 2, 128)    0           ['bn_3_conv_a[0][0]']            \n",
            "                                                                                                  \n",
            " res_3_conv_b (Conv2D)          (None, 2, 2, 128)    147584      ['activation_48[0][0]']          \n",
            "                                                                                                  \n",
            " bn_3_conv_b (BatchNormalizatio  (None, 2, 2, 128)   512         ['res_3_conv_b[0][0]']           \n",
            " n)                                                                                               \n",
            "                                                                                                  \n",
            " activation_49 (Activation)     (None, 2, 2, 128)    0           ['bn_3_conv_b[0][0]']            \n",
            "                                                                                                  \n",
            " res_3_conv_copy (Conv2D)       (None, 5, 5, 512)    131584      ['activation_47[0][0]']          \n",
            "                                                                                                  \n",
            " res_3_conv_c (Conv2D)          (None, 2, 2, 512)    66048       ['activation_49[0][0]']          \n",
            "                                                                                                  \n",
            " max_pooling2d_14 (MaxPooling2D  (None, 2, 2, 512)   0           ['res_3_conv_copy[0][0]']        \n",
            " )                                                                                                \n",
            "                                                                                                  \n",
            " bn_3_conv_c (BatchNormalizatio  (None, 2, 2, 512)   2048        ['res_3_conv_c[0][0]']           \n",
            " n)                                                                                               \n",
            "                                                                                                  \n",
            " bn_3_conv_copy (BatchNormaliza  (None, 2, 2, 512)   2048        ['max_pooling2d_14[0][0]']       \n",
            " tion)                                                                                            \n",
            "                                                                                                  \n",
            " add_15 (Add)                   (None, 2, 2, 512)    0           ['bn_3_conv_c[0][0]',            \n",
            "                                                                  'bn_3_conv_copy[0][0]']         \n",
            "                                                                                                  \n",
            " activation_50 (Activation)     (None, 2, 2, 512)    0           ['add_15[0][0]']                 \n",
            "                                                                                                  \n",
            " res_3_identity_1_a (Conv2D)    (None, 2, 2, 128)    65664       ['activation_50[0][0]']          \n",
            "                                                                                                  \n",
            " bn_3_identity_1_a (BatchNormal  (None, 2, 2, 128)   512         ['res_3_identity_1_a[0][0]']     \n",
            " ization)                                                                                         \n",
            "                                                                                                  \n",
            " activation_51 (Activation)     (None, 2, 2, 128)    0           ['bn_3_identity_1_a[0][0]']      \n",
            "                                                                                                  \n",
            " res_3_identity_1_b (Conv2D)    (None, 2, 2, 128)    147584      ['activation_51[0][0]']          \n",
            "                                                                                                  \n",
            " bn_3_identity_1_b (BatchNormal  (None, 2, 2, 128)   512         ['res_3_identity_1_b[0][0]']     \n",
            " ization)                                                                                         \n",
            "                                                                                                  \n",
            " activation_52 (Activation)     (None, 2, 2, 128)    0           ['bn_3_identity_1_b[0][0]']      \n",
            "                                                                                                  \n",
            " res_3_identity_1_c (Conv2D)    (None, 2, 2, 512)    66048       ['activation_52[0][0]']          \n",
            "                                                                                                  \n",
            " bn_3_identity_1_c (BatchNormal  (None, 2, 2, 512)   2048        ['res_3_identity_1_c[0][0]']     \n",
            " ization)                                                                                         \n",
            "                                                                                                  \n",
            " add_16 (Add)                   (None, 2, 2, 512)    0           ['bn_3_identity_1_c[0][0]',      \n",
            "                                                                  'activation_50[0][0]']          \n",
            "                                                                                                  \n",
            " activation_53 (Activation)     (None, 2, 2, 512)    0           ['add_16[0][0]']                 \n",
            "                                                                                                  \n",
            " res_3_identity_2_a (Conv2D)    (None, 2, 2, 128)    65664       ['activation_53[0][0]']          \n",
            "                                                                                                  \n",
            " bn_3_identity_2_a (BatchNormal  (None, 2, 2, 128)   512         ['res_3_identity_2_a[0][0]']     \n",
            " ization)                                                                                         \n",
            "                                                                                                  \n",
            " activation_54 (Activation)     (None, 2, 2, 128)    0           ['bn_3_identity_2_a[0][0]']      \n",
            "                                                                                                  \n",
            " res_3_identity_2_b (Conv2D)    (None, 2, 2, 128)    147584      ['activation_54[0][0]']          \n",
            "                                                                                                  \n",
            " bn_3_identity_2_b (BatchNormal  (None, 2, 2, 128)   512         ['res_3_identity_2_b[0][0]']     \n",
            " ization)                                                                                         \n",
            "                                                                                                  \n",
            " activation_55 (Activation)     (None, 2, 2, 128)    0           ['bn_3_identity_2_b[0][0]']      \n",
            "                                                                                                  \n",
            " res_3_identity_2_c (Conv2D)    (None, 2, 2, 512)    66048       ['activation_55[0][0]']          \n",
            "                                                                                                  \n",
            " bn_3_identity_2_c (BatchNormal  (None, 2, 2, 512)   2048        ['res_3_identity_2_c[0][0]']     \n",
            " ization)                                                                                         \n",
            "                                                                                                  \n",
            " add_17 (Add)                   (None, 2, 2, 512)    0           ['bn_3_identity_2_c[0][0]',      \n",
            "                                                                  'activation_53[0][0]']          \n",
            "                                                                                                  \n",
            " activation_56 (Activation)     (None, 2, 2, 512)    0           ['add_17[0][0]']                 \n",
            "                                                                                                  \n",
            " Averagea_Pooling (AveragePooli  (None, 1, 1, 512)   0           ['activation_56[0][0]']          \n",
            " ng2D)                                                                                            \n",
            "                                                                                                  \n",
            " flatten_2 (Flatten)            (None, 512)          0           ['Averagea_Pooling[0][0]']       \n",
            "                                                                                                  \n",
            " Dense_final (Dense)            (None, 7)            3591        ['flatten_2[0][0]']              \n",
            "                                                                                                  \n",
            "==================================================================================================\n",
            "Total params: 1,175,047\n",
            "Trainable params: 1,166,471\n",
            "Non-trainable params: 8,576\n",
            "__________________________________________________________________________________________________\n"
          ]
        }
      ]
    },
    {
      "cell_type": "code",
      "metadata": {
        "colab": {
          "base_uri": "https://localhost:8080/",
          "height": 423
        },
        "id": "PT0Ow5-nItyi",
        "outputId": "957f4ef1-cc0e-4af6-fe8f-cb0f6962e9cf"
      },
      "source": [
        "df2 = pd.read_csv(\"/content/drive/MyDrive/AVA Retail/TestData.csv\")\n",
        "df2 = df2.drop(['Unnamed: 0'], axis = 1)\n",
        "df2['IMAGES'] = df2['IMAGES'].apply(lambda x: string2array(x))\n",
        "df2"
      ],
      "execution_count": 5,
      "outputs": [
        {
          "output_type": "execute_result",
          "data": {
            "text/html": [
              "<div>\n",
              "<style scoped>\n",
              "    .dataframe tbody tr th:only-of-type {\n",
              "        vertical-align: middle;\n",
              "    }\n",
              "\n",
              "    .dataframe tbody tr th {\n",
              "        vertical-align: top;\n",
              "    }\n",
              "\n",
              "    .dataframe thead th {\n",
              "        text-align: right;\n",
              "    }\n",
              "</style>\n",
              "<table border=\"1\" class=\"dataframe\">\n",
              "  <thead>\n",
              "    <tr style=\"text-align: right;\">\n",
              "      <th></th>\n",
              "      <th>images</th>\n",
              "      <th>labels</th>\n",
              "      <th>IMAGES</th>\n",
              "    </tr>\n",
              "  </thead>\n",
              "  <tbody>\n",
              "    <tr>\n",
              "      <th>0</th>\n",
              "      <td>IMG_25.jpg</td>\n",
              "      <td>NaN</td>\n",
              "      <td>[[[86.0], [83.0], [91.0], [120.0], [100.0], [1...</td>\n",
              "    </tr>\n",
              "    <tr>\n",
              "      <th>1</th>\n",
              "      <td>IMG_61.jpg</td>\n",
              "      <td>NaN</td>\n",
              "      <td>[[[1.0], [1.0], [1.0], [1.0], [1.0], [1.0], [1...</td>\n",
              "    </tr>\n",
              "    <tr>\n",
              "      <th>2</th>\n",
              "      <td>IMG_64.jpg</td>\n",
              "      <td>NaN</td>\n",
              "      <td>[[[176.0], [49.0], [36.0], [39.0], [38.0], [42...</td>\n",
              "    </tr>\n",
              "    <tr>\n",
              "      <th>3</th>\n",
              "      <td>IMG_70.jpg</td>\n",
              "      <td>NaN</td>\n",
              "      <td>[[[7.0], [9.0], [16.0], [20.0], [25.0], [33.0]...</td>\n",
              "    </tr>\n",
              "    <tr>\n",
              "      <th>4</th>\n",
              "      <td>IMG_91.jpg</td>\n",
              "      <td>NaN</td>\n",
              "      <td>[[[233.0], [232.0], [227.0], [235.0], [233.0],...</td>\n",
              "    </tr>\n",
              "    <tr>\n",
              "      <th>...</th>\n",
              "      <td>...</td>\n",
              "      <td>...</td>\n",
              "      <td>...</td>\n",
              "    </tr>\n",
              "    <tr>\n",
              "      <th>7061</th>\n",
              "      <td>IMG_107608.jpg</td>\n",
              "      <td>NaN</td>\n",
              "      <td>[[[216.0], [220.0], [222.0], [223.0], [224.0],...</td>\n",
              "    </tr>\n",
              "    <tr>\n",
              "      <th>7062</th>\n",
              "      <td>IMG_107617.jpg</td>\n",
              "      <td>NaN</td>\n",
              "      <td>[[[132.0], [162.0], [89.0], [58.0], [9.0], [0....</td>\n",
              "    </tr>\n",
              "    <tr>\n",
              "      <th>7063</th>\n",
              "      <td>IMG_107620.jpg</td>\n",
              "      <td>NaN</td>\n",
              "      <td>[[[54.0], [57.0], [75.0], [124.0], [121.0], [7...</td>\n",
              "    </tr>\n",
              "    <tr>\n",
              "      <th>7064</th>\n",
              "      <td>IMG_107644.jpg</td>\n",
              "      <td>NaN</td>\n",
              "      <td>[[[180.0], [177.0], [176.0], [157.0], [180.0],...</td>\n",
              "    </tr>\n",
              "    <tr>\n",
              "      <th>7065</th>\n",
              "      <td>IMG_107653.jpg</td>\n",
              "      <td>NaN</td>\n",
              "      <td>[[[18.0], [17.0], [15.0], [27.0], [26.0], [26....</td>\n",
              "    </tr>\n",
              "  </tbody>\n",
              "</table>\n",
              "<p>7066 rows × 3 columns</p>\n",
              "</div>"
            ],
            "text/plain": [
              "              images  labels                                             IMAGES\n",
              "0         IMG_25.jpg     NaN  [[[86.0], [83.0], [91.0], [120.0], [100.0], [1...\n",
              "1         IMG_61.jpg     NaN  [[[1.0], [1.0], [1.0], [1.0], [1.0], [1.0], [1...\n",
              "2         IMG_64.jpg     NaN  [[[176.0], [49.0], [36.0], [39.0], [38.0], [42...\n",
              "3         IMG_70.jpg     NaN  [[[7.0], [9.0], [16.0], [20.0], [25.0], [33.0]...\n",
              "4         IMG_91.jpg     NaN  [[[233.0], [232.0], [227.0], [235.0], [233.0],...\n",
              "...              ...     ...                                                ...\n",
              "7061  IMG_107608.jpg     NaN  [[[216.0], [220.0], [222.0], [223.0], [224.0],...\n",
              "7062  IMG_107617.jpg     NaN  [[[132.0], [162.0], [89.0], [58.0], [9.0], [0....\n",
              "7063  IMG_107620.jpg     NaN  [[[54.0], [57.0], [75.0], [124.0], [121.0], [7...\n",
              "7064  IMG_107644.jpg     NaN  [[[180.0], [177.0], [176.0], [157.0], [180.0],...\n",
              "7065  IMG_107653.jpg     NaN  [[[18.0], [17.0], [15.0], [27.0], [26.0], [26....\n",
              "\n",
              "[7066 rows x 3 columns]"
            ]
          },
          "metadata": {},
          "execution_count": 5
        }
      ]
    },
    {
      "cell_type": "code",
      "metadata": {
        "id": "5ZUPZCOtKEJd"
      },
      "source": [
        "from tensorflow.keras.applications.resnet50 import preprocess_input, decode_predictions\n",
        "from tensorflow.keras.preprocessing import image"
      ],
      "execution_count": 6,
      "outputs": []
    },
    {
      "cell_type": "code",
      "metadata": {
        "id": "z1LA8lCA9otv"
      },
      "source": [
        "def classify(img):\n",
        "  Labels = ['annoyed','scared','upset','content','joyful','shocked','irritated']\n",
        "  img2 = img/255\n",
        "  img_array = img2.reshape(1,48,48)\n",
        "  # img_batch = np.expand_dims(img_array, axis=0)\n",
        "  # img_preprocessed = preprocess_input(img_batch)\n",
        "  # print(img_preprocessed.shape)\n",
        "  # print(img_preprocessed)\n",
        "  model = new_model\n",
        "  prediction = model.predict(img_array)\n",
        "  cls = np.argmax(prediction[0])\n",
        "  return Labels[cls]\n"
      ],
      "execution_count": 25,
      "outputs": []
    },
    {
      "cell_type": "code",
      "metadata": {
        "id": "li2PEwViK6b0"
      },
      "source": [
        "arr = []\n",
        "for i in range(len(df2[\"IMAGES\"])):\n",
        "  ans = classify((df2[\"IMAGES\"][i]))\n",
        "  arr.append(ans)\n"
      ],
      "execution_count": 26,
      "outputs": []
    },
    {
      "cell_type": "code",
      "metadata": {
        "id": "g4TU590fKWNW"
      },
      "source": [
        "result = [classify(x) for x in df2['IMAGES']]"
      ],
      "execution_count": 28,
      "outputs": []
    },
    {
      "cell_type": "code",
      "metadata": {
        "id": "mWRdUFDprBYJ"
      },
      "source": [
        "df2 = df2.drop(['labels'], axis = 1)"
      ],
      "execution_count": 36,
      "outputs": []
    },
    {
      "cell_type": "code",
      "metadata": {
        "colab": {
          "base_uri": "https://localhost:8080/",
          "height": 423
        },
        "id": "qIR5sHr2rSyc",
        "outputId": "d1509613-95df-4d45-87b1-bb6f992868ae"
      },
      "source": [
        "df2"
      ],
      "execution_count": 37,
      "outputs": [
        {
          "output_type": "execute_result",
          "data": {
            "text/html": [
              "<div>\n",
              "<style scoped>\n",
              "    .dataframe tbody tr th:only-of-type {\n",
              "        vertical-align: middle;\n",
              "    }\n",
              "\n",
              "    .dataframe tbody tr th {\n",
              "        vertical-align: top;\n",
              "    }\n",
              "\n",
              "    .dataframe thead th {\n",
              "        text-align: right;\n",
              "    }\n",
              "</style>\n",
              "<table border=\"1\" class=\"dataframe\">\n",
              "  <thead>\n",
              "    <tr style=\"text-align: right;\">\n",
              "      <th></th>\n",
              "      <th>images</th>\n",
              "      <th>IMAGES</th>\n",
              "    </tr>\n",
              "  </thead>\n",
              "  <tbody>\n",
              "    <tr>\n",
              "      <th>0</th>\n",
              "      <td>IMG_25.jpg</td>\n",
              "      <td>[[[86.0], [83.0], [91.0], [120.0], [100.0], [1...</td>\n",
              "    </tr>\n",
              "    <tr>\n",
              "      <th>1</th>\n",
              "      <td>IMG_61.jpg</td>\n",
              "      <td>[[[1.0], [1.0], [1.0], [1.0], [1.0], [1.0], [1...</td>\n",
              "    </tr>\n",
              "    <tr>\n",
              "      <th>2</th>\n",
              "      <td>IMG_64.jpg</td>\n",
              "      <td>[[[176.0], [49.0], [36.0], [39.0], [38.0], [42...</td>\n",
              "    </tr>\n",
              "    <tr>\n",
              "      <th>3</th>\n",
              "      <td>IMG_70.jpg</td>\n",
              "      <td>[[[7.0], [9.0], [16.0], [20.0], [25.0], [33.0]...</td>\n",
              "    </tr>\n",
              "    <tr>\n",
              "      <th>4</th>\n",
              "      <td>IMG_91.jpg</td>\n",
              "      <td>[[[233.0], [232.0], [227.0], [235.0], [233.0],...</td>\n",
              "    </tr>\n",
              "    <tr>\n",
              "      <th>...</th>\n",
              "      <td>...</td>\n",
              "      <td>...</td>\n",
              "    </tr>\n",
              "    <tr>\n",
              "      <th>7061</th>\n",
              "      <td>IMG_107608.jpg</td>\n",
              "      <td>[[[216.0], [220.0], [222.0], [223.0], [224.0],...</td>\n",
              "    </tr>\n",
              "    <tr>\n",
              "      <th>7062</th>\n",
              "      <td>IMG_107617.jpg</td>\n",
              "      <td>[[[132.0], [162.0], [89.0], [58.0], [9.0], [0....</td>\n",
              "    </tr>\n",
              "    <tr>\n",
              "      <th>7063</th>\n",
              "      <td>IMG_107620.jpg</td>\n",
              "      <td>[[[54.0], [57.0], [75.0], [124.0], [121.0], [7...</td>\n",
              "    </tr>\n",
              "    <tr>\n",
              "      <th>7064</th>\n",
              "      <td>IMG_107644.jpg</td>\n",
              "      <td>[[[180.0], [177.0], [176.0], [157.0], [180.0],...</td>\n",
              "    </tr>\n",
              "    <tr>\n",
              "      <th>7065</th>\n",
              "      <td>IMG_107653.jpg</td>\n",
              "      <td>[[[18.0], [17.0], [15.0], [27.0], [26.0], [26....</td>\n",
              "    </tr>\n",
              "  </tbody>\n",
              "</table>\n",
              "<p>7066 rows × 2 columns</p>\n",
              "</div>"
            ],
            "text/plain": [
              "              images                                             IMAGES\n",
              "0         IMG_25.jpg  [[[86.0], [83.0], [91.0], [120.0], [100.0], [1...\n",
              "1         IMG_61.jpg  [[[1.0], [1.0], [1.0], [1.0], [1.0], [1.0], [1...\n",
              "2         IMG_64.jpg  [[[176.0], [49.0], [36.0], [39.0], [38.0], [42...\n",
              "3         IMG_70.jpg  [[[7.0], [9.0], [16.0], [20.0], [25.0], [33.0]...\n",
              "4         IMG_91.jpg  [[[233.0], [232.0], [227.0], [235.0], [233.0],...\n",
              "...              ...                                                ...\n",
              "7061  IMG_107608.jpg  [[[216.0], [220.0], [222.0], [223.0], [224.0],...\n",
              "7062  IMG_107617.jpg  [[[132.0], [162.0], [89.0], [58.0], [9.0], [0....\n",
              "7063  IMG_107620.jpg  [[[54.0], [57.0], [75.0], [124.0], [121.0], [7...\n",
              "7064  IMG_107644.jpg  [[[180.0], [177.0], [176.0], [157.0], [180.0],...\n",
              "7065  IMG_107653.jpg  [[[18.0], [17.0], [15.0], [27.0], [26.0], [26....\n",
              "\n",
              "[7066 rows x 2 columns]"
            ]
          },
          "metadata": {},
          "execution_count": 37
        }
      ]
    },
    {
      "cell_type": "code",
      "metadata": {
        "id": "7xV35YX0soAD"
      },
      "source": [
        "df3 = df2.copy()"
      ],
      "execution_count": 45,
      "outputs": []
    },
    {
      "cell_type": "code",
      "metadata": {
        "id": "wNgVBAaDsq86"
      },
      "source": [
        "df3 = df3.drop(['IMAGES'], axis = 1)"
      ],
      "execution_count": 47,
      "outputs": []
    },
    {
      "cell_type": "code",
      "metadata": {
        "id": "jG_8jK89sTpM"
      },
      "source": [
        "df3['labels'] = arr"
      ],
      "execution_count": 50,
      "outputs": []
    },
    {
      "cell_type": "code",
      "metadata": {
        "id": "hFPwa3FZnZge"
      },
      "source": [
        "df3.rename(columns = {'images':'image id'}, inplace = True)"
      ],
      "execution_count": 52,
      "outputs": []
    },
    {
      "cell_type": "code",
      "metadata": {
        "id": "F-tPIDhZuCjD"
      },
      "source": [
        "df3.to_csv('Test_results.csv',index=False)"
      ],
      "execution_count": 56,
      "outputs": []
    },
    {
      "cell_type": "code",
      "metadata": {
        "colab": {
          "base_uri": "https://localhost:8080/",
          "height": 423
        },
        "id": "PB0i6_snuzG2",
        "outputId": "5136c67d-e4e1-4842-e506-ec8194eea164"
      },
      "source": [
        "df3"
      ],
      "execution_count": 55,
      "outputs": [
        {
          "output_type": "execute_result",
          "data": {
            "text/html": [
              "<div>\n",
              "<style scoped>\n",
              "    .dataframe tbody tr th:only-of-type {\n",
              "        vertical-align: middle;\n",
              "    }\n",
              "\n",
              "    .dataframe tbody tr th {\n",
              "        vertical-align: top;\n",
              "    }\n",
              "\n",
              "    .dataframe thead th {\n",
              "        text-align: right;\n",
              "    }\n",
              "</style>\n",
              "<table border=\"1\" class=\"dataframe\">\n",
              "  <thead>\n",
              "    <tr style=\"text-align: right;\">\n",
              "      <th></th>\n",
              "      <th>image id</th>\n",
              "      <th>labels</th>\n",
              "    </tr>\n",
              "  </thead>\n",
              "  <tbody>\n",
              "    <tr>\n",
              "      <th>0</th>\n",
              "      <td>IMG_25.jpg</td>\n",
              "      <td>content</td>\n",
              "    </tr>\n",
              "    <tr>\n",
              "      <th>1</th>\n",
              "      <td>IMG_61.jpg</td>\n",
              "      <td>scared</td>\n",
              "    </tr>\n",
              "    <tr>\n",
              "      <th>2</th>\n",
              "      <td>IMG_64.jpg</td>\n",
              "      <td>joyful</td>\n",
              "    </tr>\n",
              "    <tr>\n",
              "      <th>3</th>\n",
              "      <td>IMG_70.jpg</td>\n",
              "      <td>joyful</td>\n",
              "    </tr>\n",
              "    <tr>\n",
              "      <th>4</th>\n",
              "      <td>IMG_91.jpg</td>\n",
              "      <td>content</td>\n",
              "    </tr>\n",
              "    <tr>\n",
              "      <th>...</th>\n",
              "      <td>...</td>\n",
              "      <td>...</td>\n",
              "    </tr>\n",
              "    <tr>\n",
              "      <th>7061</th>\n",
              "      <td>IMG_107608.jpg</td>\n",
              "      <td>content</td>\n",
              "    </tr>\n",
              "    <tr>\n",
              "      <th>7062</th>\n",
              "      <td>IMG_107617.jpg</td>\n",
              "      <td>scared</td>\n",
              "    </tr>\n",
              "    <tr>\n",
              "      <th>7063</th>\n",
              "      <td>IMG_107620.jpg</td>\n",
              "      <td>irritated</td>\n",
              "    </tr>\n",
              "    <tr>\n",
              "      <th>7064</th>\n",
              "      <td>IMG_107644.jpg</td>\n",
              "      <td>annoyed</td>\n",
              "    </tr>\n",
              "    <tr>\n",
              "      <th>7065</th>\n",
              "      <td>IMG_107653.jpg</td>\n",
              "      <td>annoyed</td>\n",
              "    </tr>\n",
              "  </tbody>\n",
              "</table>\n",
              "<p>7066 rows × 2 columns</p>\n",
              "</div>"
            ],
            "text/plain": [
              "            image id     labels\n",
              "0         IMG_25.jpg    content\n",
              "1         IMG_61.jpg     scared\n",
              "2         IMG_64.jpg     joyful\n",
              "3         IMG_70.jpg     joyful\n",
              "4         IMG_91.jpg    content\n",
              "...              ...        ...\n",
              "7061  IMG_107608.jpg    content\n",
              "7062  IMG_107617.jpg     scared\n",
              "7063  IMG_107620.jpg  irritated\n",
              "7064  IMG_107644.jpg    annoyed\n",
              "7065  IMG_107653.jpg    annoyed\n",
              "\n",
              "[7066 rows x 2 columns]"
            ]
          },
          "metadata": {},
          "execution_count": 55
        }
      ]
    },
    {
      "cell_type": "code",
      "metadata": {
        "id": "qDBYdTRVuzhe"
      },
      "source": [
        ""
      ],
      "execution_count": null,
      "outputs": []
    }
  ]
}